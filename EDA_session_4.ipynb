{
 "cells": [
  {
   "cell_type": "code",
   "execution_count": 82,
   "id": "b3a676d1-81d9-4174-8a3a-48679e6d31f5",
   "metadata": {},
   "outputs": [],
   "source": [
    "import pandas as pd\n",
    "import numpy as np\n",
    "import matplotlib.pyplot as plt\n",
    "import seaborn as scn"
   ]
  },
  {
   "cell_type": "code",
   "execution_count": 84,
   "id": "47834b86-bde2-424a-b9b3-c922b48a25d2",
   "metadata": {},
   "outputs": [
    {
     "data": {
      "text/html": [
       "<div>\n",
       "<style scoped>\n",
       "    .dataframe tbody tr th:only-of-type {\n",
       "        vertical-align: middle;\n",
       "    }\n",
       "\n",
       "    .dataframe tbody tr th {\n",
       "        vertical-align: top;\n",
       "    }\n",
       "\n",
       "    .dataframe thead th {\n",
       "        text-align: right;\n",
       "    }\n",
       "</style>\n",
       "<table border=\"1\" class=\"dataframe\">\n",
       "  <thead>\n",
       "    <tr style=\"text-align: right;\">\n",
       "      <th></th>\n",
       "      <th>case_id</th>\n",
       "      <th>continent</th>\n",
       "      <th>education_of_employee</th>\n",
       "      <th>has_job_experience</th>\n",
       "      <th>requires_job_training</th>\n",
       "      <th>no_of_employees</th>\n",
       "      <th>yr_of_estab</th>\n",
       "      <th>region_of_employment</th>\n",
       "      <th>prevailing_wage</th>\n",
       "      <th>unit_of_wage</th>\n",
       "      <th>full_time_position</th>\n",
       "      <th>case_status</th>\n",
       "    </tr>\n",
       "  </thead>\n",
       "  <tbody>\n",
       "    <tr>\n",
       "      <th>0</th>\n",
       "      <td>EZYV01</td>\n",
       "      <td>Asia</td>\n",
       "      <td>High School</td>\n",
       "      <td>N</td>\n",
       "      <td>N</td>\n",
       "      <td>14513</td>\n",
       "      <td>2007</td>\n",
       "      <td>West</td>\n",
       "      <td>592.2029</td>\n",
       "      <td>Hour</td>\n",
       "      <td>Y</td>\n",
       "      <td>Denied</td>\n",
       "    </tr>\n",
       "    <tr>\n",
       "      <th>1</th>\n",
       "      <td>EZYV02</td>\n",
       "      <td>Asia</td>\n",
       "      <td>Master's</td>\n",
       "      <td>Y</td>\n",
       "      <td>N</td>\n",
       "      <td>2412</td>\n",
       "      <td>2002</td>\n",
       "      <td>Northeast</td>\n",
       "      <td>83425.6500</td>\n",
       "      <td>Year</td>\n",
       "      <td>Y</td>\n",
       "      <td>Certified</td>\n",
       "    </tr>\n",
       "    <tr>\n",
       "      <th>2</th>\n",
       "      <td>EZYV03</td>\n",
       "      <td>Asia</td>\n",
       "      <td>Bachelor's</td>\n",
       "      <td>N</td>\n",
       "      <td>Y</td>\n",
       "      <td>44444</td>\n",
       "      <td>2008</td>\n",
       "      <td>West</td>\n",
       "      <td>122996.8600</td>\n",
       "      <td>Year</td>\n",
       "      <td>Y</td>\n",
       "      <td>Denied</td>\n",
       "    </tr>\n",
       "    <tr>\n",
       "      <th>3</th>\n",
       "      <td>EZYV04</td>\n",
       "      <td>Asia</td>\n",
       "      <td>Bachelor's</td>\n",
       "      <td>N</td>\n",
       "      <td>N</td>\n",
       "      <td>98</td>\n",
       "      <td>1897</td>\n",
       "      <td>West</td>\n",
       "      <td>83434.0300</td>\n",
       "      <td>Year</td>\n",
       "      <td>Y</td>\n",
       "      <td>Denied</td>\n",
       "    </tr>\n",
       "    <tr>\n",
       "      <th>4</th>\n",
       "      <td>EZYV05</td>\n",
       "      <td>Africa</td>\n",
       "      <td>Master's</td>\n",
       "      <td>Y</td>\n",
       "      <td>N</td>\n",
       "      <td>1082</td>\n",
       "      <td>2005</td>\n",
       "      <td>South</td>\n",
       "      <td>149907.3900</td>\n",
       "      <td>Year</td>\n",
       "      <td>Y</td>\n",
       "      <td>Certified</td>\n",
       "    </tr>\n",
       "  </tbody>\n",
       "</table>\n",
       "</div>"
      ],
      "text/plain": [
       "  case_id continent education_of_employee has_job_experience  \\\n",
       "0  EZYV01      Asia           High School                  N   \n",
       "1  EZYV02      Asia              Master's                  Y   \n",
       "2  EZYV03      Asia            Bachelor's                  N   \n",
       "3  EZYV04      Asia            Bachelor's                  N   \n",
       "4  EZYV05    Africa              Master's                  Y   \n",
       "\n",
       "  requires_job_training  no_of_employees  yr_of_estab region_of_employment  \\\n",
       "0                     N            14513         2007                 West   \n",
       "1                     N             2412         2002            Northeast   \n",
       "2                     Y            44444         2008                 West   \n",
       "3                     N               98         1897                 West   \n",
       "4                     N             1082         2005                South   \n",
       "\n",
       "   prevailing_wage unit_of_wage full_time_position case_status  \n",
       "0         592.2029         Hour                  Y      Denied  \n",
       "1       83425.6500         Year                  Y   Certified  \n",
       "2      122996.8600         Year                  Y      Denied  \n",
       "3       83434.0300         Year                  Y      Denied  \n",
       "4      149907.3900         Year                  Y   Certified  "
      ]
     },
     "execution_count": 84,
     "metadata": {},
     "output_type": "execute_result"
    }
   ],
   "source": [
    "path=r'C:\\Users\\manish\\Datafile\\Visadataset.csv'\n",
    "visa_df=pd.read_csv(path)\n",
    "visa_df.head()\n"
   ]
  },
  {
   "cell_type": "markdown",
   "id": "4a21eacd-9ed8-4c5f-ab64-1b2d6c7340e1",
   "metadata": {},
   "source": [
    "**Values count**"
   ]
  },
  {
   "cell_type": "code",
   "execution_count": 4,
   "id": "66412a1e-7daf-4894-8601-f4472b75e191",
   "metadata": {},
   "outputs": [
    {
     "data": {
      "text/html": [
       "<div>\n",
       "<style scoped>\n",
       "    .dataframe tbody tr th:only-of-type {\n",
       "        vertical-align: middle;\n",
       "    }\n",
       "\n",
       "    .dataframe tbody tr th {\n",
       "        vertical-align: top;\n",
       "    }\n",
       "\n",
       "    .dataframe thead th {\n",
       "        text-align: right;\n",
       "    }\n",
       "</style>\n",
       "<table border=\"1\" class=\"dataframe\">\n",
       "  <thead>\n",
       "    <tr style=\"text-align: right;\">\n",
       "      <th></th>\n",
       "      <th>case_id</th>\n",
       "      <th>continent</th>\n",
       "      <th>education_of_employee</th>\n",
       "      <th>has_job_experience</th>\n",
       "      <th>requires_job_training</th>\n",
       "      <th>no_of_employees</th>\n",
       "      <th>yr_of_estab</th>\n",
       "      <th>region_of_employment</th>\n",
       "      <th>prevailing_wage</th>\n",
       "      <th>unit_of_wage</th>\n",
       "      <th>full_time_position</th>\n",
       "      <th>case_status</th>\n",
       "    </tr>\n",
       "  </thead>\n",
       "  <tbody>\n",
       "    <tr>\n",
       "      <th>0</th>\n",
       "      <td>EZYV01</td>\n",
       "      <td>Asia</td>\n",
       "      <td>High School</td>\n",
       "      <td>N</td>\n",
       "      <td>N</td>\n",
       "      <td>14513</td>\n",
       "      <td>2007</td>\n",
       "      <td>West</td>\n",
       "      <td>592.2029</td>\n",
       "      <td>Hour</td>\n",
       "      <td>Y</td>\n",
       "      <td>Denied</td>\n",
       "    </tr>\n",
       "    <tr>\n",
       "      <th>1</th>\n",
       "      <td>EZYV02</td>\n",
       "      <td>Asia</td>\n",
       "      <td>Master's</td>\n",
       "      <td>Y</td>\n",
       "      <td>N</td>\n",
       "      <td>2412</td>\n",
       "      <td>2002</td>\n",
       "      <td>Northeast</td>\n",
       "      <td>83425.6500</td>\n",
       "      <td>Year</td>\n",
       "      <td>Y</td>\n",
       "      <td>Certified</td>\n",
       "    </tr>\n",
       "    <tr>\n",
       "      <th>2</th>\n",
       "      <td>EZYV03</td>\n",
       "      <td>Asia</td>\n",
       "      <td>Bachelor's</td>\n",
       "      <td>N</td>\n",
       "      <td>Y</td>\n",
       "      <td>44444</td>\n",
       "      <td>2008</td>\n",
       "      <td>West</td>\n",
       "      <td>122996.8600</td>\n",
       "      <td>Year</td>\n",
       "      <td>Y</td>\n",
       "      <td>Denied</td>\n",
       "    </tr>\n",
       "    <tr>\n",
       "      <th>3</th>\n",
       "      <td>EZYV04</td>\n",
       "      <td>Asia</td>\n",
       "      <td>Bachelor's</td>\n",
       "      <td>N</td>\n",
       "      <td>N</td>\n",
       "      <td>98</td>\n",
       "      <td>1897</td>\n",
       "      <td>West</td>\n",
       "      <td>83434.0300</td>\n",
       "      <td>Year</td>\n",
       "      <td>Y</td>\n",
       "      <td>Denied</td>\n",
       "    </tr>\n",
       "    <tr>\n",
       "      <th>4</th>\n",
       "      <td>EZYV05</td>\n",
       "      <td>Africa</td>\n",
       "      <td>Master's</td>\n",
       "      <td>Y</td>\n",
       "      <td>N</td>\n",
       "      <td>1082</td>\n",
       "      <td>2005</td>\n",
       "      <td>South</td>\n",
       "      <td>149907.3900</td>\n",
       "      <td>Year</td>\n",
       "      <td>Y</td>\n",
       "      <td>Certified</td>\n",
       "    </tr>\n",
       "    <tr>\n",
       "      <th>...</th>\n",
       "      <td>...</td>\n",
       "      <td>...</td>\n",
       "      <td>...</td>\n",
       "      <td>...</td>\n",
       "      <td>...</td>\n",
       "      <td>...</td>\n",
       "      <td>...</td>\n",
       "      <td>...</td>\n",
       "      <td>...</td>\n",
       "      <td>...</td>\n",
       "      <td>...</td>\n",
       "      <td>...</td>\n",
       "    </tr>\n",
       "    <tr>\n",
       "      <th>25475</th>\n",
       "      <td>EZYV25476</td>\n",
       "      <td>Asia</td>\n",
       "      <td>Bachelor's</td>\n",
       "      <td>Y</td>\n",
       "      <td>Y</td>\n",
       "      <td>2601</td>\n",
       "      <td>2008</td>\n",
       "      <td>South</td>\n",
       "      <td>77092.5700</td>\n",
       "      <td>Year</td>\n",
       "      <td>Y</td>\n",
       "      <td>Certified</td>\n",
       "    </tr>\n",
       "    <tr>\n",
       "      <th>25476</th>\n",
       "      <td>EZYV25477</td>\n",
       "      <td>Asia</td>\n",
       "      <td>High School</td>\n",
       "      <td>Y</td>\n",
       "      <td>N</td>\n",
       "      <td>3274</td>\n",
       "      <td>2006</td>\n",
       "      <td>Northeast</td>\n",
       "      <td>279174.7900</td>\n",
       "      <td>Year</td>\n",
       "      <td>Y</td>\n",
       "      <td>Certified</td>\n",
       "    </tr>\n",
       "    <tr>\n",
       "      <th>25477</th>\n",
       "      <td>EZYV25478</td>\n",
       "      <td>Asia</td>\n",
       "      <td>Master's</td>\n",
       "      <td>Y</td>\n",
       "      <td>N</td>\n",
       "      <td>1121</td>\n",
       "      <td>1910</td>\n",
       "      <td>South</td>\n",
       "      <td>146298.8500</td>\n",
       "      <td>Year</td>\n",
       "      <td>N</td>\n",
       "      <td>Certified</td>\n",
       "    </tr>\n",
       "    <tr>\n",
       "      <th>25478</th>\n",
       "      <td>EZYV25479</td>\n",
       "      <td>Asia</td>\n",
       "      <td>Master's</td>\n",
       "      <td>Y</td>\n",
       "      <td>Y</td>\n",
       "      <td>1918</td>\n",
       "      <td>1887</td>\n",
       "      <td>West</td>\n",
       "      <td>86154.7700</td>\n",
       "      <td>Year</td>\n",
       "      <td>Y</td>\n",
       "      <td>Certified</td>\n",
       "    </tr>\n",
       "    <tr>\n",
       "      <th>25479</th>\n",
       "      <td>EZYV25480</td>\n",
       "      <td>Asia</td>\n",
       "      <td>Bachelor's</td>\n",
       "      <td>Y</td>\n",
       "      <td>N</td>\n",
       "      <td>3195</td>\n",
       "      <td>1960</td>\n",
       "      <td>Midwest</td>\n",
       "      <td>70876.9100</td>\n",
       "      <td>Year</td>\n",
       "      <td>Y</td>\n",
       "      <td>Certified</td>\n",
       "    </tr>\n",
       "  </tbody>\n",
       "</table>\n",
       "<p>25480 rows × 12 columns</p>\n",
       "</div>"
      ],
      "text/plain": [
       "         case_id continent education_of_employee has_job_experience  \\\n",
       "0         EZYV01      Asia           High School                  N   \n",
       "1         EZYV02      Asia              Master's                  Y   \n",
       "2         EZYV03      Asia            Bachelor's                  N   \n",
       "3         EZYV04      Asia            Bachelor's                  N   \n",
       "4         EZYV05    Africa              Master's                  Y   \n",
       "...          ...       ...                   ...                ...   \n",
       "25475  EZYV25476      Asia            Bachelor's                  Y   \n",
       "25476  EZYV25477      Asia           High School                  Y   \n",
       "25477  EZYV25478      Asia              Master's                  Y   \n",
       "25478  EZYV25479      Asia              Master's                  Y   \n",
       "25479  EZYV25480      Asia            Bachelor's                  Y   \n",
       "\n",
       "      requires_job_training  no_of_employees  yr_of_estab  \\\n",
       "0                         N            14513         2007   \n",
       "1                         N             2412         2002   \n",
       "2                         Y            44444         2008   \n",
       "3                         N               98         1897   \n",
       "4                         N             1082         2005   \n",
       "...                     ...              ...          ...   \n",
       "25475                     Y             2601         2008   \n",
       "25476                     N             3274         2006   \n",
       "25477                     N             1121         1910   \n",
       "25478                     Y             1918         1887   \n",
       "25479                     N             3195         1960   \n",
       "\n",
       "      region_of_employment  prevailing_wage unit_of_wage full_time_position  \\\n",
       "0                     West         592.2029         Hour                  Y   \n",
       "1                Northeast       83425.6500         Year                  Y   \n",
       "2                     West      122996.8600         Year                  Y   \n",
       "3                     West       83434.0300         Year                  Y   \n",
       "4                    South      149907.3900         Year                  Y   \n",
       "...                    ...              ...          ...                ...   \n",
       "25475                South       77092.5700         Year                  Y   \n",
       "25476            Northeast      279174.7900         Year                  Y   \n",
       "25477                South      146298.8500         Year                  N   \n",
       "25478                 West       86154.7700         Year                  Y   \n",
       "25479              Midwest       70876.9100         Year                  Y   \n",
       "\n",
       "      case_status  \n",
       "0          Denied  \n",
       "1       Certified  \n",
       "2          Denied  \n",
       "3          Denied  \n",
       "4       Certified  \n",
       "...           ...  \n",
       "25475   Certified  \n",
       "25476   Certified  \n",
       "25477   Certified  \n",
       "25478   Certified  \n",
       "25479   Certified  \n",
       "\n",
       "[25480 rows x 12 columns]"
      ]
     },
     "execution_count": 4,
     "metadata": {},
     "output_type": "execute_result"
    }
   ],
   "source": [
    "visa_df"
   ]
  },
  {
   "cell_type": "markdown",
   "id": "2a86f965-908b-4833-a72f-f15abf70c6cb",
   "metadata": {},
   "source": [
    "- we created a datframe of unique of column and its count\n",
    "- We created by our own way, by using for loop\n",
    "- the same operation we can get using value_counts"
   ]
  },
  {
   "cell_type": "code",
   "execution_count": 6,
   "id": "b62aa829-60f8-489a-86e0-0a8cecc0a650",
   "metadata": {},
   "outputs": [
    {
     "data": {
      "text/plain": [
       "continent\n",
       "Asia             16861\n",
       "Europe            3732\n",
       "North America     3292\n",
       "South America      852\n",
       "Africa             551\n",
       "Oceania            192\n",
       "Name: count, dtype: int64"
      ]
     },
     "execution_count": 6,
     "metadata": {},
     "output_type": "execute_result"
    }
   ],
   "source": [
    "cdf=visa_df['continent'].value_counts()\n",
    "cdf"
   ]
  },
  {
   "cell_type": "code",
   "execution_count": 7,
   "id": "5e3be5a3-7607-42ad-999b-b396053d76c0",
   "metadata": {},
   "outputs": [
    {
     "data": {
      "text/plain": [
       "['Africa',\n",
       " 'Asia',\n",
       " 'Europe',\n",
       " 'Oceania',\n",
       " 'T',\n",
       " '_AXIS_LEN',\n",
       " '_AXIS_ORDERS',\n",
       " '_AXIS_TO_AXIS_NUMBER',\n",
       " '_HANDLED_TYPES',\n",
       " '__abs__',\n",
       " '__add__',\n",
       " '__and__',\n",
       " '__annotations__',\n",
       " '__array__',\n",
       " '__array_priority__',\n",
       " '__array_ufunc__',\n",
       " '__bool__',\n",
       " '__class__',\n",
       " '__column_consortium_standard__',\n",
       " '__contains__',\n",
       " '__copy__',\n",
       " '__deepcopy__',\n",
       " '__delattr__',\n",
       " '__delitem__',\n",
       " '__dict__',\n",
       " '__dir__',\n",
       " '__divmod__',\n",
       " '__doc__',\n",
       " '__eq__',\n",
       " '__finalize__',\n",
       " '__float__',\n",
       " '__floordiv__',\n",
       " '__format__',\n",
       " '__ge__',\n",
       " '__getattr__',\n",
       " '__getattribute__',\n",
       " '__getitem__',\n",
       " '__getstate__',\n",
       " '__gt__',\n",
       " '__hash__',\n",
       " '__iadd__',\n",
       " '__iand__',\n",
       " '__ifloordiv__',\n",
       " '__imod__',\n",
       " '__imul__',\n",
       " '__init__',\n",
       " '__init_subclass__',\n",
       " '__int__',\n",
       " '__invert__',\n",
       " '__ior__',\n",
       " '__ipow__',\n",
       " '__isub__',\n",
       " '__iter__',\n",
       " '__itruediv__',\n",
       " '__ixor__',\n",
       " '__le__',\n",
       " '__len__',\n",
       " '__lt__',\n",
       " '__matmul__',\n",
       " '__mod__',\n",
       " '__module__',\n",
       " '__mul__',\n",
       " '__ne__',\n",
       " '__neg__',\n",
       " '__new__',\n",
       " '__nonzero__',\n",
       " '__or__',\n",
       " '__pandas_priority__',\n",
       " '__pos__',\n",
       " '__pow__',\n",
       " '__radd__',\n",
       " '__rand__',\n",
       " '__rdivmod__',\n",
       " '__reduce__',\n",
       " '__reduce_ex__',\n",
       " '__repr__',\n",
       " '__rfloordiv__',\n",
       " '__rmatmul__',\n",
       " '__rmod__',\n",
       " '__rmul__',\n",
       " '__ror__',\n",
       " '__round__',\n",
       " '__rpow__',\n",
       " '__rsub__',\n",
       " '__rtruediv__',\n",
       " '__rxor__',\n",
       " '__setattr__',\n",
       " '__setitem__',\n",
       " '__setstate__',\n",
       " '__sizeof__',\n",
       " '__str__',\n",
       " '__sub__',\n",
       " '__subclasshook__',\n",
       " '__truediv__',\n",
       " '__weakref__',\n",
       " '__xor__',\n",
       " '_accessors',\n",
       " '_accum_func',\n",
       " '_agg_examples_doc',\n",
       " '_agg_see_also_doc',\n",
       " '_align_for_op',\n",
       " '_align_frame',\n",
       " '_align_series',\n",
       " '_append',\n",
       " '_arith_method',\n",
       " '_as_manager',\n",
       " '_attrs',\n",
       " '_binop',\n",
       " '_can_hold_na',\n",
       " '_check_inplace_and_allows_duplicate_labels',\n",
       " '_check_is_chained_assignment_possible',\n",
       " '_check_label_or_level_ambiguity',\n",
       " '_check_setitem_copy',\n",
       " '_clear_item_cache',\n",
       " '_clip_with_one_bound',\n",
       " '_clip_with_scalar',\n",
       " '_cmp_method',\n",
       " '_consolidate',\n",
       " '_consolidate_inplace',\n",
       " '_construct_axes_dict',\n",
       " '_construct_result',\n",
       " '_constructor',\n",
       " '_constructor_expanddim',\n",
       " '_constructor_expanddim_from_mgr',\n",
       " '_constructor_from_mgr',\n",
       " '_data',\n",
       " '_deprecate_downcast',\n",
       " '_dir_additions',\n",
       " '_dir_deletions',\n",
       " '_drop_axis',\n",
       " '_drop_labels_or_levels',\n",
       " '_duplicated',\n",
       " '_find_valid_index',\n",
       " '_flags',\n",
       " '_flex_method',\n",
       " '_from_mgr',\n",
       " '_get_axis',\n",
       " '_get_axis_name',\n",
       " '_get_axis_number',\n",
       " '_get_axis_resolvers',\n",
       " '_get_block_manager_axis',\n",
       " '_get_bool_data',\n",
       " '_get_cacher',\n",
       " '_get_cleaned_column_resolvers',\n",
       " '_get_index_resolvers',\n",
       " '_get_label_or_level_values',\n",
       " '_get_numeric_data',\n",
       " '_get_rows_with_mask',\n",
       " '_get_value',\n",
       " '_get_values_tuple',\n",
       " '_get_with',\n",
       " '_getitem_slice',\n",
       " '_gotitem',\n",
       " '_hidden_attrs',\n",
       " '_indexed_same',\n",
       " '_info_axis',\n",
       " '_info_axis_name',\n",
       " '_info_axis_number',\n",
       " '_init_dict',\n",
       " '_init_mgr',\n",
       " '_inplace_method',\n",
       " '_internal_names',\n",
       " '_internal_names_set',\n",
       " '_is_cached',\n",
       " '_is_copy',\n",
       " '_is_label_or_level_reference',\n",
       " '_is_label_reference',\n",
       " '_is_level_reference',\n",
       " '_is_mixed_type',\n",
       " '_is_view',\n",
       " '_is_view_after_cow_rules',\n",
       " '_item_cache',\n",
       " '_ixs',\n",
       " '_logical_func',\n",
       " '_logical_method',\n",
       " '_map_values',\n",
       " '_maybe_update_cacher',\n",
       " '_memory_usage',\n",
       " '_metadata',\n",
       " '_mgr',\n",
       " '_min_count_stat_function',\n",
       " '_name',\n",
       " '_needs_reindex_multi',\n",
       " '_pad_or_backfill',\n",
       " '_protect_consolidate',\n",
       " '_reduce',\n",
       " '_references',\n",
       " '_reindex_axes',\n",
       " '_reindex_indexer',\n",
       " '_reindex_multi',\n",
       " '_reindex_with_indexers',\n",
       " '_rename',\n",
       " '_replace_single',\n",
       " '_repr_data_resource_',\n",
       " '_repr_latex_',\n",
       " '_reset_cache',\n",
       " '_reset_cacher',\n",
       " '_set_as_cached',\n",
       " '_set_axis',\n",
       " '_set_axis_name',\n",
       " '_set_axis_nocheck',\n",
       " '_set_is_copy',\n",
       " '_set_labels',\n",
       " '_set_name',\n",
       " '_set_value',\n",
       " '_set_values',\n",
       " '_set_with',\n",
       " '_set_with_engine',\n",
       " '_shift_with_freq',\n",
       " '_slice',\n",
       " '_stat_function',\n",
       " '_stat_function_ddof',\n",
       " '_take_with_is_copy',\n",
       " '_to_latex_via_styler',\n",
       " '_typ',\n",
       " '_update_inplace',\n",
       " '_validate_dtype',\n",
       " '_values',\n",
       " '_where',\n",
       " 'abs',\n",
       " 'add',\n",
       " 'add_prefix',\n",
       " 'add_suffix',\n",
       " 'agg',\n",
       " 'aggregate',\n",
       " 'align',\n",
       " 'all',\n",
       " 'any',\n",
       " 'apply',\n",
       " 'argmax',\n",
       " 'argmin',\n",
       " 'argsort',\n",
       " 'array',\n",
       " 'asfreq',\n",
       " 'asof',\n",
       " 'astype',\n",
       " 'at',\n",
       " 'at_time',\n",
       " 'attrs',\n",
       " 'autocorr',\n",
       " 'axes',\n",
       " 'backfill',\n",
       " 'between',\n",
       " 'between_time',\n",
       " 'bfill',\n",
       " 'bool',\n",
       " 'case_when',\n",
       " 'clip',\n",
       " 'combine',\n",
       " 'combine_first',\n",
       " 'compare',\n",
       " 'convert_dtypes',\n",
       " 'copy',\n",
       " 'corr',\n",
       " 'count',\n",
       " 'cov',\n",
       " 'cummax',\n",
       " 'cummin',\n",
       " 'cumprod',\n",
       " 'cumsum',\n",
       " 'describe',\n",
       " 'diff',\n",
       " 'div',\n",
       " 'divide',\n",
       " 'divmod',\n",
       " 'dot',\n",
       " 'drop',\n",
       " 'drop_duplicates',\n",
       " 'droplevel',\n",
       " 'dropna',\n",
       " 'dtype',\n",
       " 'dtypes',\n",
       " 'duplicated',\n",
       " 'empty',\n",
       " 'eq',\n",
       " 'equals',\n",
       " 'ewm',\n",
       " 'expanding',\n",
       " 'explode',\n",
       " 'factorize',\n",
       " 'ffill',\n",
       " 'fillna',\n",
       " 'filter',\n",
       " 'first',\n",
       " 'first_valid_index',\n",
       " 'flags',\n",
       " 'floordiv',\n",
       " 'ge',\n",
       " 'get',\n",
       " 'groupby',\n",
       " 'gt',\n",
       " 'hasnans',\n",
       " 'head',\n",
       " 'hist',\n",
       " 'iat',\n",
       " 'idxmax',\n",
       " 'idxmin',\n",
       " 'iloc',\n",
       " 'index',\n",
       " 'infer_objects',\n",
       " 'info',\n",
       " 'interpolate',\n",
       " 'is_monotonic_decreasing',\n",
       " 'is_monotonic_increasing',\n",
       " 'is_unique',\n",
       " 'isin',\n",
       " 'isna',\n",
       " 'isnull',\n",
       " 'item',\n",
       " 'items',\n",
       " 'keys',\n",
       " 'kurt',\n",
       " 'kurtosis',\n",
       " 'last',\n",
       " 'last_valid_index',\n",
       " 'le',\n",
       " 'list',\n",
       " 'loc',\n",
       " 'lt',\n",
       " 'map',\n",
       " 'mask',\n",
       " 'max',\n",
       " 'mean',\n",
       " 'median',\n",
       " 'memory_usage',\n",
       " 'min',\n",
       " 'mod',\n",
       " 'mode',\n",
       " 'mul',\n",
       " 'multiply',\n",
       " 'name',\n",
       " 'nbytes',\n",
       " 'ndim',\n",
       " 'ne',\n",
       " 'nlargest',\n",
       " 'notna',\n",
       " 'notnull',\n",
       " 'nsmallest',\n",
       " 'nunique',\n",
       " 'pad',\n",
       " 'pct_change',\n",
       " 'pipe',\n",
       " 'plot',\n",
       " 'pop',\n",
       " 'pow',\n",
       " 'prod',\n",
       " 'product',\n",
       " 'quantile',\n",
       " 'radd',\n",
       " 'rank',\n",
       " 'ravel',\n",
       " 'rdiv',\n",
       " 'rdivmod',\n",
       " 'reindex',\n",
       " 'reindex_like',\n",
       " 'rename',\n",
       " 'rename_axis',\n",
       " 'reorder_levels',\n",
       " 'repeat',\n",
       " 'replace',\n",
       " 'resample',\n",
       " 'reset_index',\n",
       " 'rfloordiv',\n",
       " 'rmod',\n",
       " 'rmul',\n",
       " 'rolling',\n",
       " 'round',\n",
       " 'rpow',\n",
       " 'rsub',\n",
       " 'rtruediv',\n",
       " 'sample',\n",
       " 'searchsorted',\n",
       " 'sem',\n",
       " 'set_axis',\n",
       " 'set_flags',\n",
       " 'shape',\n",
       " 'shift',\n",
       " 'size',\n",
       " 'skew',\n",
       " 'sort_index',\n",
       " 'sort_values',\n",
       " 'squeeze',\n",
       " 'std',\n",
       " 'struct',\n",
       " 'sub',\n",
       " 'subtract',\n",
       " 'sum',\n",
       " 'swapaxes',\n",
       " 'swaplevel',\n",
       " 'tail',\n",
       " 'take',\n",
       " 'to_clipboard',\n",
       " 'to_csv',\n",
       " 'to_dict',\n",
       " 'to_excel',\n",
       " 'to_frame',\n",
       " 'to_hdf',\n",
       " 'to_json',\n",
       " 'to_latex',\n",
       " 'to_list',\n",
       " 'to_markdown',\n",
       " 'to_numpy',\n",
       " 'to_period',\n",
       " 'to_pickle',\n",
       " 'to_sql',\n",
       " 'to_string',\n",
       " 'to_timestamp',\n",
       " 'to_xarray',\n",
       " 'transform',\n",
       " 'transpose',\n",
       " 'truediv',\n",
       " 'truncate',\n",
       " 'tz_convert',\n",
       " 'tz_localize',\n",
       " 'unique',\n",
       " 'unstack',\n",
       " 'update',\n",
       " 'value_counts',\n",
       " 'values',\n",
       " 'var',\n",
       " 'view',\n",
       " 'where',\n",
       " 'xs']"
      ]
     },
     "execution_count": 7,
     "metadata": {},
     "output_type": "execute_result"
    }
   ],
   "source": [
    "dir(cdf)"
   ]
  },
  {
   "cell_type": "code",
   "execution_count": 8,
   "id": "0ec69bf6-4f54-4775-9118-218d7fb2a62d",
   "metadata": {},
   "outputs": [
    {
     "data": {
      "text/plain": [
       "pandas.core.series.Series"
      ]
     },
     "execution_count": 8,
     "metadata": {},
     "output_type": "execute_result"
    }
   ],
   "source": [
    "type(cdf)"
   ]
  },
  {
   "cell_type": "code",
   "execution_count": 9,
   "id": "38a1c5d1-2c16-49e3-a88f-7084f46d9470",
   "metadata": {},
   "outputs": [],
   "source": [
    "keys=cdf.keys()"
   ]
  },
  {
   "cell_type": "code",
   "execution_count": 10,
   "id": "23134ac9-70ab-4626-81d4-f474fa4a3bf9",
   "metadata": {},
   "outputs": [],
   "source": [
    "values=cdf.values"
   ]
  },
  {
   "cell_type": "code",
   "execution_count": 11,
   "id": "fc26df2a-cbb3-4a02-b9d1-0c0c4dbe6d29",
   "metadata": {},
   "outputs": [
    {
     "data": {
      "text/html": [
       "<div>\n",
       "<style scoped>\n",
       "    .dataframe tbody tr th:only-of-type {\n",
       "        vertical-align: middle;\n",
       "    }\n",
       "\n",
       "    .dataframe tbody tr th {\n",
       "        vertical-align: top;\n",
       "    }\n",
       "\n",
       "    .dataframe thead th {\n",
       "        text-align: right;\n",
       "    }\n",
       "</style>\n",
       "<table border=\"1\" class=\"dataframe\">\n",
       "  <thead>\n",
       "    <tr style=\"text-align: right;\">\n",
       "      <th></th>\n",
       "      <th>Key</th>\n",
       "      <th>Values</th>\n",
       "    </tr>\n",
       "  </thead>\n",
       "  <tbody>\n",
       "    <tr>\n",
       "      <th>0</th>\n",
       "      <td>Asia</td>\n",
       "      <td>16861</td>\n",
       "    </tr>\n",
       "    <tr>\n",
       "      <th>1</th>\n",
       "      <td>Europe</td>\n",
       "      <td>3732</td>\n",
       "    </tr>\n",
       "    <tr>\n",
       "      <th>2</th>\n",
       "      <td>North America</td>\n",
       "      <td>3292</td>\n",
       "    </tr>\n",
       "    <tr>\n",
       "      <th>3</th>\n",
       "      <td>South America</td>\n",
       "      <td>852</td>\n",
       "    </tr>\n",
       "    <tr>\n",
       "      <th>4</th>\n",
       "      <td>Africa</td>\n",
       "      <td>551</td>\n",
       "    </tr>\n",
       "    <tr>\n",
       "      <th>5</th>\n",
       "      <td>Oceania</td>\n",
       "      <td>192</td>\n",
       "    </tr>\n",
       "  </tbody>\n",
       "</table>\n",
       "</div>"
      ],
      "text/plain": [
       "             Key  Values\n",
       "0           Asia   16861\n",
       "1         Europe    3732\n",
       "2  North America    3292\n",
       "3  South America     852\n",
       "4         Africa     551\n",
       "5        Oceania     192"
      ]
     },
     "execution_count": 11,
     "metadata": {},
     "output_type": "execute_result"
    }
   ],
   "source": [
    "pd.DataFrame(zip(keys,values),columns=['Key','Values'])"
   ]
  },
  {
   "cell_type": "code",
   "execution_count": 12,
   "id": "3cfdc3a7-08f6-4e6a-8573-aa4ca264dd8e",
   "metadata": {},
   "outputs": [
    {
     "data": {
      "text/plain": [
       "case_id                   object\n",
       "continent                 object\n",
       "education_of_employee     object\n",
       "has_job_experience        object\n",
       "requires_job_training     object\n",
       "no_of_employees            int64\n",
       "yr_of_estab                int64\n",
       "region_of_employment      object\n",
       "prevailing_wage          float64\n",
       "unit_of_wage              object\n",
       "full_time_position        object\n",
       "case_status               object\n",
       "dtype: object"
      ]
     },
     "execution_count": 12,
     "metadata": {},
     "output_type": "execute_result"
    }
   ],
   "source": [
    "visa_df.dtypes"
   ]
  },
  {
   "cell_type": "code",
   "execution_count": 13,
   "id": "c33a9e6f-fdfc-4996-87fd-eee1e584d81f",
   "metadata": {},
   "outputs": [],
   "source": [
    "cdf=visa_df['continent'].value_counts()\n",
    "keys=cdf.keys()\n",
    "values=cdf.values\n",
    "df=pd.DataFrame(zip(keys,values),columns=['Label','Count'])\n",
    "df.to_csv('Continent.csv',index=False)\n"
   ]
  },
  {
   "cell_type": "code",
   "execution_count": 14,
   "id": "7d648e55-406c-44be-a925-bbc4fada7e28",
   "metadata": {},
   "outputs": [],
   "source": [
    "# cdf=visa_df['continent'].value_counts()\n",
    "# keys=cdf.keys()\n",
    "# values=cdf.values\n",
    "# df=pd.DataFrame(zip(keys,values),columns=['Label','Count'])\n",
    "# df.to_csv('Continent.csv',index=False)\n",
    "\n",
    "# cdf=visa_df['education_of_employee'].value_counts()\n",
    "# keys=cdf.keys()\n",
    "# values=cdf.values\n",
    "# df=pd.DataFrame(zip(keys,values),columns=['Label','Count'])\n",
    "# df.to_csv('education_of_employee.csv',index=False)\n",
    "\n",
    "# cdf=visa_df['has_job_experience'].value_counts()\n",
    "# keys=cdf.keys()\n",
    "# values=cdf.values\n",
    "# df=pd.DataFrame(zip(keys,values),columns=['Label','Count'])\n",
    "# df.to_csv('has_job_experience.csv',index=False)\n",
    "\n",
    "# cdf=visa_df['region_of_employment'].value_counts()\n",
    "# keys=cdf.keys()\n",
    "# values=cdf.values\n",
    "# df=pd.DataFrame(zip(keys,values),columns=['Label','Count'])\n",
    "# df.to_csv('region_of_employment.csv',index=False)\n",
    "\n",
    "# cdf=visa_df['no_of_employees'].value_counts()\n",
    "# keys=cdf.keys()\n",
    "# values=cdf.values\n",
    "# df=pd.DataFrame(zip(keys,values),columns=['Label','Count'])\n",
    "# df.to_csv('no_of_employees.csv',index=False)\n",
    "\n",
    "# cdf=visa_df['yr_of_estab'].value_counts()\n",
    "# keys=cdf.keys()\n",
    "# values=cdf.values\n",
    "# df=pd.DataFrame(zip(keys,values),columns=['Label','Count'])\n",
    "# df.to_csv('yr_of_estab.csv',index=False)\n",
    "\n",
    "# cdf=visa_df['yr_of_estab'].value_counts()\n",
    "# keys=cdf.keys()\n",
    "# values=cdf.values\n",
    "# df=pd.DataFrame(zip(keys,values),columns=['Label','Count'])\n",
    "# df.to_csv('yr_of_estab.csv',index=False)prevailing_wage"
   ]
  },
  {
   "cell_type": "code",
   "execution_count": 15,
   "id": "3d5307a0-b72a-498b-acaa-ebac91f0f9ef",
   "metadata": {},
   "outputs": [
    {
     "name": "stdout",
     "output_type": "stream",
     "text": [
      "['Asia' 16861]\n",
      "['Europe' 3732]\n",
      "['North America' 3292]\n",
      "['South America' 852]\n",
      "['Africa' 551]\n",
      "['Oceania' 192]\n"
     ]
    }
   ],
   "source": [
    "# cdf=visa_df[i].value_counts()\n",
    "# keys=cdf.keys()\n",
    "# values=cdf.values\n",
    "# df=pd.DataFrame(zip(keys,values),columns=['Label','Count'])\n",
    "# df.to_csv(f'{i}.csv',index=False)\n",
    "for i in df.values:\n",
    "    print(i)"
   ]
  },
  {
   "cell_type": "code",
   "execution_count": 16,
   "id": "1eb36f7f-5325-4bf8-bc33-cc2c36a7c49e",
   "metadata": {},
   "outputs": [
    {
     "name": "stdout",
     "output_type": "stream",
     "text": [
      "[ True False] [['Asia' 16861]\n",
      " ['Europe' 3732]\n",
      " ['North America' 3292]\n",
      " ['South America' 852]\n",
      " ['Africa' 551]\n",
      " ['Oceania' 192]]\n",
      "[False  True] [['Asia' 16861]\n",
      " ['Europe' 3732]\n",
      " ['North America' 3292]\n",
      " ['South America' 852]\n",
      " ['Africa' 551]\n",
      " ['Oceania' 192]]\n"
     ]
    }
   ],
   "source": [
    "for i in df:\n",
    "    keys=df.keys()==i\n",
    "    values=df.values\n",
    "    print(keys,values)"
   ]
  },
  {
   "cell_type": "code",
   "execution_count": 17,
   "id": "a4f7e820-d302-457f-8e12-37ab617a3c7d",
   "metadata": {},
   "outputs": [
    {
     "data": {
      "text/html": [
       "<div>\n",
       "<style scoped>\n",
       "    .dataframe tbody tr th:only-of-type {\n",
       "        vertical-align: middle;\n",
       "    }\n",
       "\n",
       "    .dataframe tbody tr th {\n",
       "        vertical-align: top;\n",
       "    }\n",
       "\n",
       "    .dataframe thead th {\n",
       "        text-align: right;\n",
       "    }\n",
       "</style>\n",
       "<table border=\"1\" class=\"dataframe\">\n",
       "  <thead>\n",
       "    <tr style=\"text-align: right;\">\n",
       "      <th></th>\n",
       "      <th>Label</th>\n",
       "      <th>Count</th>\n",
       "    </tr>\n",
       "  </thead>\n",
       "  <tbody>\n",
       "    <tr>\n",
       "      <th>0</th>\n",
       "      <td>Certified</td>\n",
       "      <td>17018</td>\n",
       "    </tr>\n",
       "    <tr>\n",
       "      <th>1</th>\n",
       "      <td>Denied</td>\n",
       "      <td>8462</td>\n",
       "    </tr>\n",
       "  </tbody>\n",
       "</table>\n",
       "</div>"
      ],
      "text/plain": [
       "       Label  Count\n",
       "0  Certified  17018\n",
       "1     Denied   8462"
      ]
     },
     "execution_count": 17,
     "metadata": {},
     "output_type": "execute_result"
    }
   ],
   "source": [
    "for i in visa_df:\n",
    "    cdf=visa_df[i].value_counts()\n",
    "    keys=cdf.keys()\n",
    "    values=cdf.values\n",
    "    dff=pd.DataFrame(zip(keys,values),columns=['Label','Count'])\n",
    "dff\n",
    "\n",
    "    # df.to_csv('Continent.csv',index=False)\n"
   ]
  },
  {
   "cell_type": "code",
   "execution_count": 18,
   "id": "3035e54f-7380-48d9-a4e3-1f06a7b5963b",
   "metadata": {},
   "outputs": [
    {
     "data": {
      "text/html": [
       "<div>\n",
       "<style scoped>\n",
       "    .dataframe tbody tr th:only-of-type {\n",
       "        vertical-align: middle;\n",
       "    }\n",
       "\n",
       "    .dataframe tbody tr th {\n",
       "        vertical-align: top;\n",
       "    }\n",
       "\n",
       "    .dataframe thead th {\n",
       "        text-align: right;\n",
       "    }\n",
       "</style>\n",
       "<table border=\"1\" class=\"dataframe\">\n",
       "  <thead>\n",
       "    <tr style=\"text-align: right;\">\n",
       "      <th></th>\n",
       "      <th>0</th>\n",
       "      <th>1</th>\n",
       "    </tr>\n",
       "  </thead>\n",
       "  <tbody>\n",
       "    <tr>\n",
       "      <th>0</th>\n",
       "      <td>case_id</td>\n",
       "      <td>[EZYV01, Asia, High School, N, N, 14513, 2007,...</td>\n",
       "    </tr>\n",
       "    <tr>\n",
       "      <th>1</th>\n",
       "      <td>continent</td>\n",
       "      <td>[EZYV02, Asia, Master's, Y, N, 2412, 2002, Nor...</td>\n",
       "    </tr>\n",
       "    <tr>\n",
       "      <th>2</th>\n",
       "      <td>education_of_employee</td>\n",
       "      <td>[EZYV03, Asia, Bachelor's, N, Y, 44444, 2008, ...</td>\n",
       "    </tr>\n",
       "    <tr>\n",
       "      <th>3</th>\n",
       "      <td>has_job_experience</td>\n",
       "      <td>[EZYV04, Asia, Bachelor's, N, N, 98, 1897, Wes...</td>\n",
       "    </tr>\n",
       "    <tr>\n",
       "      <th>4</th>\n",
       "      <td>requires_job_training</td>\n",
       "      <td>[EZYV05, Africa, Master's, Y, N, 1082, 2005, S...</td>\n",
       "    </tr>\n",
       "  </tbody>\n",
       "</table>\n",
       "</div>"
      ],
      "text/plain": [
       "                       0                                                  1\n",
       "0                case_id  [EZYV01, Asia, High School, N, N, 14513, 2007,...\n",
       "1              continent  [EZYV02, Asia, Master's, Y, N, 2412, 2002, Nor...\n",
       "2  education_of_employee  [EZYV03, Asia, Bachelor's, N, Y, 44444, 2008, ...\n",
       "3     has_job_experience  [EZYV04, Asia, Bachelor's, N, N, 98, 1897, Wes...\n",
       "4  requires_job_training  [EZYV05, Africa, Master's, Y, N, 1082, 2005, S..."
      ]
     },
     "execution_count": 18,
     "metadata": {},
     "output_type": "execute_result"
    }
   ],
   "source": [
    "df=visa_df.head()\n",
    "for i in df:\n",
    "    value=df.values\n",
    "    keys=df.keys()\n",
    "df1=pd.DataFrame(zip(keys,value))\n",
    "df1"
   ]
  },
  {
   "cell_type": "code",
   "execution_count": 19,
   "id": "09be3f69-47a3-40e2-a728-c6d535742e1d",
   "metadata": {},
   "outputs": [
    {
     "data": {
      "text/html": [
       "<div>\n",
       "<style scoped>\n",
       "    .dataframe tbody tr th:only-of-type {\n",
       "        vertical-align: middle;\n",
       "    }\n",
       "\n",
       "    .dataframe tbody tr th {\n",
       "        vertical-align: top;\n",
       "    }\n",
       "\n",
       "    .dataframe thead th {\n",
       "        text-align: right;\n",
       "    }\n",
       "</style>\n",
       "<table border=\"1\" class=\"dataframe\">\n",
       "  <thead>\n",
       "    <tr style=\"text-align: right;\">\n",
       "      <th></th>\n",
       "      <th>Label</th>\n",
       "      <th>Count</th>\n",
       "    </tr>\n",
       "  </thead>\n",
       "  <tbody>\n",
       "    <tr>\n",
       "      <th>0</th>\n",
       "      <td>case_id</td>\n",
       "      <td>[EZYV01, Asia, High School, N, N, 14513, 2007,...</td>\n",
       "    </tr>\n",
       "    <tr>\n",
       "      <th>1</th>\n",
       "      <td>continent</td>\n",
       "      <td>[EZYV02, Asia, Master's, Y, N, 2412, 2002, Nor...</td>\n",
       "    </tr>\n",
       "    <tr>\n",
       "      <th>2</th>\n",
       "      <td>education_of_employee</td>\n",
       "      <td>[EZYV03, Asia, Bachelor's, N, Y, 44444, 2008, ...</td>\n",
       "    </tr>\n",
       "    <tr>\n",
       "      <th>3</th>\n",
       "      <td>has_job_experience</td>\n",
       "      <td>[EZYV04, Asia, Bachelor's, N, N, 98, 1897, Wes...</td>\n",
       "    </tr>\n",
       "    <tr>\n",
       "      <th>4</th>\n",
       "      <td>requires_job_training</td>\n",
       "      <td>[EZYV05, Africa, Master's, Y, N, 1082, 2005, S...</td>\n",
       "    </tr>\n",
       "    <tr>\n",
       "      <th>5</th>\n",
       "      <td>no_of_employees</td>\n",
       "      <td>[EZYV06, Asia, Master's, Y, N, 2339, 2012, Sou...</td>\n",
       "    </tr>\n",
       "    <tr>\n",
       "      <th>6</th>\n",
       "      <td>yr_of_estab</td>\n",
       "      <td>[EZYV07, Asia, Bachelor's, N, N, 4985, 1994, S...</td>\n",
       "    </tr>\n",
       "    <tr>\n",
       "      <th>7</th>\n",
       "      <td>region_of_employment</td>\n",
       "      <td>[EZYV08, North America, Bachelor's, Y, N, 3035...</td>\n",
       "    </tr>\n",
       "    <tr>\n",
       "      <th>8</th>\n",
       "      <td>prevailing_wage</td>\n",
       "      <td>[EZYV09, Asia, Bachelor's, N, N, 4810, 2012, M...</td>\n",
       "    </tr>\n",
       "    <tr>\n",
       "      <th>9</th>\n",
       "      <td>unit_of_wage</td>\n",
       "      <td>[EZYV10, Europe, Doctorate, Y, N, 2251, 1995, ...</td>\n",
       "    </tr>\n",
       "    <tr>\n",
       "      <th>10</th>\n",
       "      <td>full_time_position</td>\n",
       "      <td>[EZYV11, Asia, Master's, N, N, 2465, 2004, Mid...</td>\n",
       "    </tr>\n",
       "    <tr>\n",
       "      <th>11</th>\n",
       "      <td>case_status</td>\n",
       "      <td>[EZYV12, Asia, High School, Y, N, 4069, 2005, ...</td>\n",
       "    </tr>\n",
       "  </tbody>\n",
       "</table>\n",
       "</div>"
      ],
      "text/plain": [
       "                    Label                                              Count\n",
       "0                 case_id  [EZYV01, Asia, High School, N, N, 14513, 2007,...\n",
       "1               continent  [EZYV02, Asia, Master's, Y, N, 2412, 2002, Nor...\n",
       "2   education_of_employee  [EZYV03, Asia, Bachelor's, N, Y, 44444, 2008, ...\n",
       "3      has_job_experience  [EZYV04, Asia, Bachelor's, N, N, 98, 1897, Wes...\n",
       "4   requires_job_training  [EZYV05, Africa, Master's, Y, N, 1082, 2005, S...\n",
       "5         no_of_employees  [EZYV06, Asia, Master's, Y, N, 2339, 2012, Sou...\n",
       "6             yr_of_estab  [EZYV07, Asia, Bachelor's, N, N, 4985, 1994, S...\n",
       "7    region_of_employment  [EZYV08, North America, Bachelor's, Y, N, 3035...\n",
       "8         prevailing_wage  [EZYV09, Asia, Bachelor's, N, N, 4810, 2012, M...\n",
       "9            unit_of_wage  [EZYV10, Europe, Doctorate, Y, N, 2251, 1995, ...\n",
       "10     full_time_position  [EZYV11, Asia, Master's, N, N, 2465, 2004, Mid...\n",
       "11            case_status  [EZYV12, Asia, High School, Y, N, 4069, 2005, ..."
      ]
     },
     "execution_count": 19,
     "metadata": {},
     "output_type": "execute_result"
    }
   ],
   "source": [
    "for i in visa_df:\n",
    "    keys=visa_df.keys()\n",
    "    values=visa_df.values\n",
    "dff=pd.DataFrame(zip(keys,values),columns=['Label','Count'])\n",
    "dff"
   ]
  },
  {
   "cell_type": "code",
   "execution_count": 20,
   "id": "b5a41210-6cce-4898-b113-086a4725f651",
   "metadata": {},
   "outputs": [
    {
     "data": {
      "text/plain": [
       "(Index(['case_id', 'continent', 'education_of_employee', 'has_job_experience',\n",
       "        'requires_job_training', 'region_of_employment', 'unit_of_wage',\n",
       "        'full_time_position', 'case_status'],\n",
       "       dtype='object'),\n",
       " Index(['no_of_employees', 'yr_of_estab', 'prevailing_wage'], dtype='object'))"
      ]
     },
     "execution_count": 20,
     "metadata": {},
     "output_type": "execute_result"
    }
   ],
   "source": [
    "cat_columns=visa_df.select_dtypes(include='object').columns\n",
    "num_columns=visa_df.select_dtypes(exclude='object').columns\n",
    "cat_columns,num_columns"
   ]
  },
  {
   "cell_type": "code",
   "execution_count": 21,
   "id": "434616ae-6828-47d5-aa81-5ee2d82a83e4",
   "metadata": {},
   "outputs": [
    {
     "data": {
      "text/plain": [
       "no_of_employees    1\n",
       "yr_of_estab        1\n",
       "prevailing_wage    1\n",
       "Name: count, dtype: int64"
      ]
     },
     "execution_count": 21,
     "metadata": {},
     "output_type": "execute_result"
    }
   ],
   "source": [
    "num_columns.value_counts()"
   ]
  },
  {
   "cell_type": "code",
   "execution_count": 22,
   "id": "86dc2245-b98a-4056-aa0d-2007cc600552",
   "metadata": {},
   "outputs": [
    {
     "data": {
      "text/plain": [
       "(Index(['case_id', 'continent', 'education_of_employee', 'has_job_experience',\n",
       "        'requires_job_training', 'region_of_employment', 'unit_of_wage',\n",
       "        'full_time_position', 'case_status'],\n",
       "       dtype='object'),\n",
       " Index(['no_of_employees', 'yr_of_estab', 'prevailing_wage'], dtype='object'))"
      ]
     },
     "execution_count": 22,
     "metadata": {},
     "output_type": "execute_result"
    }
   ],
   "source": [
    "cat_columns=visa_df.select_dtypes(include='object').columns\n",
    "num_columns=visa_df.select_dtypes(exclude='object').columns\n",
    "cat_columns,num_columns"
   ]
  },
  {
   "cell_type": "code",
   "execution_count": 23,
   "id": "5162a0e3-048e-4543-985f-1c7722993241",
   "metadata": {},
   "outputs": [],
   "source": [
    "for i in cat_columns[:1]:\n",
    "    cdf=visa_df[i].value_counts()\n",
    "    keys=cdf.keys()\n",
    "    values=cdf.values\n",
    "    df=pd.DataFrame(zip(keys,values),columns=['Label','Count'])\n",
    "\n",
    "    #df.to_csv('no_of_employees.csv',index=False)\n",
    "\n"
   ]
  },
  {
   "cell_type": "code",
   "execution_count": 24,
   "id": "ce33dd77-5eae-4d45-835a-dae48ee81ca7",
   "metadata": {},
   "outputs": [
    {
     "data": {
      "text/html": [
       "<div>\n",
       "<style scoped>\n",
       "    .dataframe tbody tr th:only-of-type {\n",
       "        vertical-align: middle;\n",
       "    }\n",
       "\n",
       "    .dataframe tbody tr th {\n",
       "        vertical-align: top;\n",
       "    }\n",
       "\n",
       "    .dataframe thead th {\n",
       "        text-align: right;\n",
       "    }\n",
       "</style>\n",
       "<table border=\"1\" class=\"dataframe\">\n",
       "  <thead>\n",
       "    <tr style=\"text-align: right;\">\n",
       "      <th></th>\n",
       "      <th>Label</th>\n",
       "      <th>Count</th>\n",
       "    </tr>\n",
       "  </thead>\n",
       "  <tbody>\n",
       "    <tr>\n",
       "      <th>0</th>\n",
       "      <td>Asia</td>\n",
       "      <td>16861</td>\n",
       "    </tr>\n",
       "    <tr>\n",
       "      <th>1</th>\n",
       "      <td>Europe</td>\n",
       "      <td>3732</td>\n",
       "    </tr>\n",
       "    <tr>\n",
       "      <th>2</th>\n",
       "      <td>North America</td>\n",
       "      <td>3292</td>\n",
       "    </tr>\n",
       "    <tr>\n",
       "      <th>3</th>\n",
       "      <td>South America</td>\n",
       "      <td>852</td>\n",
       "    </tr>\n",
       "    <tr>\n",
       "      <th>4</th>\n",
       "      <td>Africa</td>\n",
       "      <td>551</td>\n",
       "    </tr>\n",
       "    <tr>\n",
       "      <th>5</th>\n",
       "      <td>Oceania</td>\n",
       "      <td>192</td>\n",
       "    </tr>\n",
       "  </tbody>\n",
       "</table>\n",
       "</div>"
      ],
      "text/plain": [
       "           Label  Count\n",
       "0           Asia  16861\n",
       "1         Europe   3732\n",
       "2  North America   3292\n",
       "3  South America    852\n",
       "4         Africa    551\n",
       "5        Oceania    192"
      ]
     },
     "execution_count": 24,
     "metadata": {},
     "output_type": "execute_result"
    }
   ],
   "source": [
    "for i in cat_columns[1:2]:\n",
    "    cdf=visa_df[i].value_counts()\n",
    "    keys=cdf.keys()\n",
    "    values=cdf.values\n",
    "    df=pd.DataFrame(zip(keys,values),columns=['Label','Count'])\n",
    "df"
   ]
  },
  {
   "cell_type": "code",
   "execution_count": 25,
   "id": "4851c2b6-cb60-4178-aa29-5f91f8042e9e",
   "metadata": {},
   "outputs": [],
   "source": [
    "def valuecount(i):\n",
    "    cdf=visa_df[i].value_counts()\n",
    "    keys=cdf.keys()\n",
    "    values=cdf.values\n",
    "    df=pd.DataFrame(zip(keys,values),columns=['Label','Count'])\n",
    "\n",
    "    "
   ]
  },
  {
   "cell_type": "markdown",
   "id": "44a6eb35-4047-4a03-b397-c4f64b7d07ea",
   "metadata": {},
   "source": [
    "**Normalize**\n",
    "- Relative frequency tabel\n",
    "- Will give percentage of label in the columns"
   ]
  },
  {
   "cell_type": "code",
   "execution_count": 27,
   "id": "7447860b-eeeb-4d09-8973-4edf7161b448",
   "metadata": {},
   "outputs": [
    {
     "data": {
      "text/plain": [
       "continent\n",
       "Asia             0.661735\n",
       "Europe           0.146468\n",
       "North America    0.129199\n",
       "South America    0.033438\n",
       "Africa           0.021625\n",
       "Oceania          0.007535\n",
       "Name: proportion, dtype: float64"
      ]
     },
     "execution_count": 27,
     "metadata": {},
     "output_type": "execute_result"
    }
   ],
   "source": [
    "cdf=visa_df['continent'].value_counts(normalize=True)\n",
    "cdf"
   ]
  },
  {
   "cell_type": "code",
   "execution_count": 28,
   "id": "fe0a670f-fc46-4565-895c-10836f64f936",
   "metadata": {},
   "outputs": [
    {
     "data": {
      "text/plain": [
       "continent\n",
       "Asia             66.17\n",
       "Europe           14.65\n",
       "North America    12.92\n",
       "South America     3.34\n",
       "Africa            2.16\n",
       "Oceania           0.75\n",
       "Name: proportion, dtype: float64"
      ]
     },
     "execution_count": 28,
     "metadata": {},
     "output_type": "execute_result"
    }
   ],
   "source": [
    "cdf=visa_df['continent'].value_counts(normalize=True)\n",
    "round(cdf*100,2)"
   ]
  },
  {
   "cell_type": "code",
   "execution_count": 29,
   "id": "f83c4ff8-b9a2-496f-98c1-2d636b991922",
   "metadata": {},
   "outputs": [
    {
     "data": {
      "text/html": [
       "<div>\n",
       "<style scoped>\n",
       "    .dataframe tbody tr th:only-of-type {\n",
       "        vertical-align: middle;\n",
       "    }\n",
       "\n",
       "    .dataframe tbody tr th {\n",
       "        vertical-align: top;\n",
       "    }\n",
       "\n",
       "    .dataframe thead th {\n",
       "        text-align: right;\n",
       "    }\n",
       "</style>\n",
       "<table border=\"1\" class=\"dataframe\">\n",
       "  <thead>\n",
       "    <tr style=\"text-align: right;\">\n",
       "      <th></th>\n",
       "      <th>continents</th>\n",
       "      <th>Number of application</th>\n",
       "    </tr>\n",
       "  </thead>\n",
       "  <tbody>\n",
       "    <tr>\n",
       "      <th>0</th>\n",
       "      <td>Asia</td>\n",
       "      <td>16861</td>\n",
       "    </tr>\n",
       "    <tr>\n",
       "      <th>1</th>\n",
       "      <td>Africa</td>\n",
       "      <td>551</td>\n",
       "    </tr>\n",
       "    <tr>\n",
       "      <th>2</th>\n",
       "      <td>North America</td>\n",
       "      <td>3292</td>\n",
       "    </tr>\n",
       "    <tr>\n",
       "      <th>3</th>\n",
       "      <td>Europe</td>\n",
       "      <td>3732</td>\n",
       "    </tr>\n",
       "    <tr>\n",
       "      <th>4</th>\n",
       "      <td>South America</td>\n",
       "      <td>852</td>\n",
       "    </tr>\n",
       "    <tr>\n",
       "      <th>5</th>\n",
       "      <td>Oceania</td>\n",
       "      <td>192</td>\n",
       "    </tr>\n",
       "  </tbody>\n",
       "</table>\n",
       "</div>"
      ],
      "text/plain": [
       "      continents  Number of application\n",
       "0           Asia                  16861\n",
       "1         Africa                    551\n",
       "2  North America                   3292\n",
       "3         Europe                   3732\n",
       "4  South America                    852\n",
       "5        Oceania                    192"
      ]
     },
     "execution_count": 29,
     "metadata": {},
     "output_type": "execute_result"
    }
   ],
   "source": [
    "continents=visa_df['continent'].unique()\n",
    "count=[]\n",
    "for i in visa_df['continent'].unique():\n",
    "    con=visa_df['continent']==i  \n",
    "    count.append(len(visa_df[con]))\n",
    "    \n",
    "cols=['continents','Number of application']\n",
    "df=pd.DataFrame(zip(continents,count),columns=cols)\n",
    "df.to_csv('Continents.csv',index=False)\n",
    "df"
   ]
  },
  {
   "cell_type": "markdown",
   "id": "62f42f8d-8095-4032-8991-414bf67f8939",
   "metadata": {},
   "source": [
    "**Bar Chart**\n",
    "- graphical representation of frequency table\n",
    "- bar graph is a plot bt count and class\n",
    "- in order to plot a bar chart we required two columns\n",
    " - categocial columns\n",
    " - Numerical columns\n",
    "- we have already categorical column for **------**\n",
    "  - here we have colmns['continent','Number of application']\n",
    "  - categorical columns is : Continent\n",
    "  - Numerical= Number of application\n",
    "- package used matplotlib as plt"
   ]
  },
  {
   "cell_type": "code",
   "execution_count": 31,
   "id": "136da275-a5ab-4ab7-9f53-4a62d36aa55a",
   "metadata": {},
   "outputs": [
    {
     "data": {
      "text/html": [
       "<div>\n",
       "<style scoped>\n",
       "    .dataframe tbody tr th:only-of-type {\n",
       "        vertical-align: middle;\n",
       "    }\n",
       "\n",
       "    .dataframe tbody tr th {\n",
       "        vertical-align: top;\n",
       "    }\n",
       "\n",
       "    .dataframe thead th {\n",
       "        text-align: right;\n",
       "    }\n",
       "</style>\n",
       "<table border=\"1\" class=\"dataframe\">\n",
       "  <thead>\n",
       "    <tr style=\"text-align: right;\">\n",
       "      <th></th>\n",
       "      <th>continents</th>\n",
       "      <th>Number of application</th>\n",
       "    </tr>\n",
       "  </thead>\n",
       "  <tbody>\n",
       "    <tr>\n",
       "      <th>0</th>\n",
       "      <td>Asia</td>\n",
       "      <td>16861</td>\n",
       "    </tr>\n",
       "    <tr>\n",
       "      <th>1</th>\n",
       "      <td>Africa</td>\n",
       "      <td>551</td>\n",
       "    </tr>\n",
       "    <tr>\n",
       "      <th>2</th>\n",
       "      <td>North America</td>\n",
       "      <td>3292</td>\n",
       "    </tr>\n",
       "    <tr>\n",
       "      <th>3</th>\n",
       "      <td>Europe</td>\n",
       "      <td>3732</td>\n",
       "    </tr>\n",
       "    <tr>\n",
       "      <th>4</th>\n",
       "      <td>South America</td>\n",
       "      <td>852</td>\n",
       "    </tr>\n",
       "    <tr>\n",
       "      <th>5</th>\n",
       "      <td>Oceania</td>\n",
       "      <td>192</td>\n",
       "    </tr>\n",
       "  </tbody>\n",
       "</table>\n",
       "</div>"
      ],
      "text/plain": [
       "      continents  Number of application\n",
       "0           Asia                  16861\n",
       "1         Africa                    551\n",
       "2  North America                   3292\n",
       "3         Europe                   3732\n",
       "4  South America                    852\n",
       "5        Oceania                    192"
      ]
     },
     "execution_count": 31,
     "metadata": {},
     "output_type": "execute_result"
    }
   ],
   "source": [
    "df"
   ]
  },
  {
   "cell_type": "code",
   "execution_count": 32,
   "id": "69a6532a-7965-4a9d-8d59-1fd19457990b",
   "metadata": {},
   "outputs": [
    {
     "data": {
      "text/plain": [
       "<BarContainer object of 1 artists>"
      ]
     },
     "execution_count": 32,
     "metadata": {},
     "output_type": "execute_result"
    },
    {
     "data": {
      "image/png": "[encoded data removed]",
      "text/plain": [
       "<Figure size 640x480 with 1 Axes>"
      ]
     },
     "metadata": {},
     "output_type": "display_data"
    }
   ],
   "source": [
    "plt.bar('Label','Count',data=df)"
   ]
  },
  {
   "cell_type": "code",
   "execution_count": 33,
   "id": "d2e4e6d8-e455-4aa7-9256-4b9b40602ed1",
   "metadata": {},
   "outputs": [
    {
     "ename": "SyntaxError",
     "evalue": "invalid syntax (312155488.py, line 1)",
     "output_type": "error",
     "traceback": [
      "\u001b[1;36m  Cell \u001b[1;32mIn[33], line 1\u001b[1;36m\u001b[0m\n\u001b[1;33m    Documents/naresh it/statistic/EDA_Visa_df_file\u001b[0m\n\u001b[1;37m                     ^\u001b[0m\n\u001b[1;31mSyntaxError\u001b[0m\u001b[1;31m:\u001b[0m invalid syntax\n"
     ]
    }
   ],
   "source": [
    "Documents/naresh it/statistic/EDA_Visa_df_file"
   ]
  },
  {
   "cell_type": "code",
   "execution_count": null,
   "id": "2d33deed-5902-44ff-81bb-4e394b4b41ff",
   "metadata": {},
   "outputs": [],
   "source": [
    "df=visa_df.dtypes\n",
    "pd.DataFrame(df,columns=['types'])"
   ]
  },
  {
   "cell_type": "code",
   "execution_count": null,
   "id": "2c3bf2d2-fe69-422c-8210-dc0c2b3365c2",
   "metadata": {},
   "outputs": [],
   "source": [
    "types=dict(visa_df.dtypes)\n",
    "cat_col=[key for key,value in types.items() if value=='object']\n",
    "num_col=[key for key,value in types.items() if value!='object']"
   ]
  },
  {
   "cell_type": "code",
   "execution_count": null,
   "id": "9299cdbc-aec1-4afb-80b9-53c1598a016f",
   "metadata": {},
   "outputs": [],
   "source": [
    "df=cat_col"
   ]
  },
  {
   "cell_type": "code",
   "execution_count": null,
   "id": "90a562cf-09a6-4aee-b20e-10809e9534fe",
   "metadata": {},
   "outputs": [],
   "source": [
    "continents=visa_df['continent'].unique()\n",
    "g=[]\n",
    "for i in visa_df['continent'].unique():\n",
    "    con=visa_df['continent']==i\n",
    "    g.append(len(visa_df[con]))\n",
    "df=pd.DataFrame(zip(continents,g),columns=['Continents','No of People'])\n",
    "# path=r'C:\\Users\\manish\\Documents\\naresh it\\statistic\\EDA_Visa_df_file'\n",
    "df.to_csv(r'C:\\Users\\manish\\Documents\\naresh it\\statistic\\EDA_Visa_df_file\\continent.csv')\n",
    "df    "
   ]
  },
  {
   "cell_type": "code",
   "execution_count": null,
   "id": "1ef2cd8b-5440-44ac-9534-bacfc2057990",
   "metadata": {},
   "outputs": [],
   "source": [
    "visa_df['continent'].value_counts()  #to read the values we can use this approac"
   ]
  },
  {
   "cell_type": "code",
   "execution_count": null,
   "id": "3d3ae100-47da-452e-b8e8-a67fd83f45ad",
   "metadata": {},
   "outputs": [],
   "source": [
    "employement=visa_df['region_of_employment'].unique()\n",
    "count=[]\n",
    "for i in visa_df['region_of_employment'].unique():\n",
    "    con=visa_df['region_of_employment']==i  \n",
    "    count.append(len(visa_df[con]))\n",
    "df=pd.DataFrame(zip(employement,count),columns=['Number_region','Number  of emplyyent'])\n",
    "# path=r'C:\\Users\\manish\\Documents\\naresh it\\statistic\\EDA_Visa_df_file'\n",
    "df.to_csv(r'C:\\Users\\manish\\Documents\\naresh it\\statistic\\EDA_Visa_df_file\\'employeement.csv')\n",
    "df    "
   ]
  },
  {
   "cell_type": "code",
   "execution_count": null,
   "id": "5be71bf7-58c6-42f2-9aba-3a05d3b3bb20",
   "metadata": {},
   "outputs": [],
   "source": [
    "employee=visa_df['requires_job_training'].unique()\n",
    "count=[]\n",
    "for i in visa_df['requires_job_training'].unique():\n",
    "    con=visa_df['requires_job_training']==i\n",
    "    count.append(len(visa_df[con]))\n",
    "count\n",
    "df=pd.DataFrame(zip(employee,count),columns=['require_training','No._of_employye'])\n",
    "df.to_csv(r'C:\\Users\\manish\\Documents\\naresh it\\statistic\\EDA_Visa_df_file\\'training_required.csv')\n",
    "df\n"
   ]
  },
  {
   "cell_type": "code",
   "execution_count": null,
   "id": "d80ee60b-b633-431e-957e-70bb8746779a",
   "metadata": {},
   "outputs": [],
   "source": [
    "years=visa_df['yr_of_estab'].unique()\n",
    "count=[]\n",
    "for i in visa_df['yr_of_estab'].unique():\n",
    "    cond=visa_df['yr_of_estab']==i\n",
    "    count.append(len(visa_df[cond]))\n",
    "count\n",
    "df=pd.DataFrame(zip(years,count),columns=['Years','No'])   \n",
    "df.to_csv(r'C:\\Users\\manish\\Documents\\naresh it\\statistic\\EDA_Visa_df_file\\'Year_num.csv')\n",
    "\n"
   ]
  },
  {
   "cell_type": "code",
   "execution_count": null,
   "id": "29bcc252-483a-4b0e-8e5d-dd45d13a0abe",
   "metadata": {},
   "outputs": [],
   "source": [
    "vages=visa_df['unit_of_wage'].unique()\n",
    "countt=[]\n",
    "for i in visa_df['unit_of_wage'].unique():\n",
    "    cond=visa_df['unit_of_wage']==i\n",
    "    countt.append(len(visa_df[cond]))\n",
    "countt\n",
    "df=pd.DataFrame(zip(vages,count),columns=['Timing','Wages'])\n",
    "df.to_csv(r'C:\\Users\\manish\\Documents\\naresh it\\statistic\\EDA_Visa_df_file\\'Wages.csv')\n",
    "df"
   ]
  },
  {
   "cell_type": "code",
   "execution_count": null,
   "id": "d88080fa-4fee-4ccc-9b86-a9da9e34e8b9",
   "metadata": {},
   "outputs": [],
   "source": [
    "position_types=visa_df['full_time_position'].unique()\n",
    "count_box=[]\n",
    "for i in visa_df['full_time_position'].unique():\n",
    "    cond=visa_df['full_time_position']==i\n",
    "    count_box.append(len(visa_df[cond]))\n",
    "df=pd.DataFrame(zip(position_types,count_box),columns=['Position_type','No.Required'])\n",
    "df.to_csv(r'C:\\Users\\manish\\Documents\\naresh it\\statistic\\EDA_Visa_df_file\\'Position_required.csv')\n",
    "df"
   ]
  },
  {
   "cell_type": "code",
   "execution_count": null,
   "id": "401ea828-d35f-42fe-9b81-d2fa8e50848b",
   "metadata": {},
   "outputs": [],
   "source": [
    "case_study=visa_df['case_status'].unique()\n",
    "box=[]\n",
    "for i in visa_df['case_status'].unique():\n",
    "    con=visa_df['case_status']==i\n",
    "    box.append(len(visa_df[con]))\n",
    "df=pd.DataFrame(zip(case_study,box),columns=['case_study','No.of employee']) \n",
    "df.to_csv(r'C:\\Users\\manish\\Documents\\naresh it\\statistic\\EDA_Visa_df_file\\'Case_study.csv')\n",
    "df\n"
   ]
  },
  {
   "cell_type": "code",
   "execution_count": null,
   "id": "7cd9ca09-95b2-4d26-9256-2ce76e60b26f",
   "metadata": {},
   "outputs": [],
   "source": [
    "employee=[no_ for no_ in visa_df['no_of_employees'].unique()]\n",
    "\n",
    "count=[]\n",
    "for i in visa_df['no_of_employees'].unique():\n",
    "    con=visa_df['no_of_employees']==i\n",
    "    ll=len(visa_df[con])\n",
    "    count.append(ll)\n",
    "df=pd.DataFrame(zip(employee,count),columns=['no_of_employee','Number'])\n",
    "df.to_csv(r'C:\\Users\\manish\\Documents\\naresh it\\statistic\\EDA_Visa_df_file\\'NO_of_employees.csv')\n",
    "df.head()\n"
   ]
  },
  {
   "cell_type": "markdown",
   "id": "f47be80f-b718-47f9-8543-d5978b8a569d",
   "metadata": {},
   "source": [
    "**Bar Plot**\n",
    "\n",
    "- graphical representation of frequency table\n",
    "- bar graph is a plot bt count and class\n",
    "- in order to plot a bar chart we required two columns\n",
    " - categocial columns\n",
    " - Numerical columns\n",
    "- we have already categorical column for **------**\n",
    "  - here we have colmns like ['continent','Number of application']\n",
    "  - categorical columns is : Continent\n",
    "  - Numerical= Number of application\n",
    "- package used matplotlib as plt"
   ]
  },
  {
   "cell_type": "code",
   "execution_count": null,
   "id": "55409306-5bd4-4cf4-ab8c-424401aa0979",
   "metadata": {},
   "outputs": [],
   "source": [
    "cat_col"
   ]
  },
  {
   "cell_type": "code",
   "execution_count": null,
   "id": "115e0613-b09e-468e-9da1-1a2c96cb7b72",
   "metadata": {},
   "outputs": [],
   "source": [
    "types=dict(visa_df.dtypes)"
   ]
  },
  {
   "cell_type": "code",
   "execution_count": null,
   "id": "05d46e8a-eeff-4de9-9183-474802a30e20",
   "metadata": {},
   "outputs": [],
   "source": [
    "cat_col=[key for key,values in types.items() if values=='object']\n",
    "num_col=[key for key,values in types.items() if values!='object']"
   ]
  },
  {
   "cell_type": "code",
   "execution_count": null,
   "id": "c2c7a1f0-c613-44e1-b474-29ef39d9aa33",
   "metadata": {},
   "outputs": [],
   "source": [
    "pd.read_csv('continent.csv')\n"
   ]
  },
  {
   "cell_type": "code",
   "execution_count": null,
   "id": "8ae64ef1-cf14-4605-8b30-6e91f7990d3a",
   "metadata": {},
   "outputs": [],
   "source": [
    "cdf=visa_df['continent'].value_counts()\n",
    "keys=cdf.keys()\n",
    "values=cdf.values\n",
    "df=pd.DataFrame(zip(keys,values),columns=['Label','Count'])\n",
    "df.to_csv('no_of_employees.csv',index=False)\n",
    "df"
   ]
  },
  {
   "cell_type": "code",
   "execution_count": null,
   "id": "1e8caa3d-1ad0-4832-b4ce-56028d799b44",
   "metadata": {},
   "outputs": [],
   "source": [
    "for i in cat_col[1:]:\n",
    "    cnf=visa_df[i].value_counts()\n",
    "    keys=cnf.keys()\n",
    "    values=cnf.values\n",
    "    df=pd.DataFrame(zip(keys,values),columns=['Label','Count'])\n",
    "    path=r'C:\\Users\\manish\\Documents\\naresh it\\statistic\\Bar_plot_visadf'\n",
    "    df.to_csv(f'{path}\\\\{i+'1'}.csv',index=False)\n"
   ]
  },
  {
   "cell_type": "code",
   "execution_count": null,
   "id": "657619eb-9725-4486-9a6d-c00fe477335a",
   "metadata": {},
   "outputs": [],
   "source": [
    "import pandas as pd\n",
    "path=r'C:\\Users\\manish\\Documents\\naresh it\\statistic\\Bar_plot_visadf\\continent1.csv'\n",
    "pd.read_csv(path)"
   ]
  },
  {
   "cell_type": "code",
   "execution_count": null,
   "id": "211f0b88-3471-4be9-85c6-b42504c5f00d",
   "metadata": {},
   "outputs": [],
   "source": [
    "import matplotlib.pyplot as plt\n",
    "df=pd.read_csv('continent1.csv')\n",
    "plt.bar('Label','Count',data=df);\n",
    "plt.xticks(rotation=70);"
   ]
  },
  {
   "cell_type": "code",
   "execution_count": null,
   "id": "4344cbbb-a352-4e9b-b94c-d6992cae4bb4",
   "metadata": {},
   "outputs": [],
   "source": [
    "df=pd.read_csv('education_of_employee1.csv')\n",
    "plt.bar('Label','Count',data=df,width=.5,color='red')"
   ]
  },
  {
   "cell_type": "code",
   "execution_count": null,
   "id": "7da0f849-b578-4d56-9d86-217722e6625b",
   "metadata": {},
   "outputs": [],
   "source": [
    "df=pd.read_csv('has_job_experience1.csv')\n",
    "plt.bar('Label','Count',data=df)"
   ]
  },
  {
   "cell_type": "code",
   "execution_count": null,
   "id": "c60219f7-b60c-4686-926b-78c29017aa97",
   "metadata": {},
   "outputs": [],
   "source": [
    "# 'case_id',\n",
    "#  'continent',\n",
    "#  'education_of_employee',\n",
    "#  'has_job_experience',\n",
    "#  'requires_job_training',\n",
    "#  'region_of_employment',\n",
    "#  'unit_of_wage',\n",
    "#  'full_time_position',\n",
    "#  'case_status']"
   ]
  },
  {
   "cell_type": "code",
   "execution_count": null,
   "id": "44038275-576c-4ab2-974d-f5dc516bf537",
   "metadata": {},
   "outputs": [],
   "source": [
    "df=pd.read_csv('requires_job_training1.csv')\n",
    "plt.figure(figsize=(4,3))\n",
    "plt.bar('Label','Count',data=df);"
   ]
  },
  {
   "cell_type": "code",
   "execution_count": null,
   "id": "1d9690c1-feaa-4fa2-9a9e-ed4d2e53fab6",
   "metadata": {},
   "outputs": [],
   "source": [
    "df=pd.read_csv('region_of_employment1.csv')\n",
    "plt.bar('Label','Count',data=df,color='green');"
   ]
  },
  {
   "cell_type": "code",
   "execution_count": null,
   "id": "1d7e7274-1558-44be-a68e-0efd2adb5449",
   "metadata": {},
   "outputs": [],
   "source": [
    "df=pd.read_csv('unit_of_wage1.csv')\n",
    "plt.figure(figsize=(4,3))\n",
    "plt.bar('Label','Count',data=df,width=.5,color='black',log=True)  #log is used for the uplift the column hieght"
   ]
  },
  {
   "cell_type": "code",
   "execution_count": null,
   "id": "22aec841-2496-42cd-bb42-ae25180b018a",
   "metadata": {},
   "outputs": [],
   "source": [
    "df=pd.read_csv('full_time_position1.csv')\n",
    "plt.figure(figsize=(3,3))\n",
    "plt.bar('Label','Count',data=df)"
   ]
  },
  {
   "cell_type": "code",
   "execution_count": null,
   "id": "acc1e685-9f09-4e9a-a682-bfca740ba345",
   "metadata": {},
   "outputs": [],
   "source": [
    "df=pd.read_csv('case_status1.csv')\n",
    "plt.figure(figsize=(3,3))\n",
    "plt.bar('Label','Count',data=df)"
   ]
  },
  {
   "cell_type": "code",
   "execution_count": null,
   "id": "0d68c1f2-6dbd-456f-b25c-3d78e389f160",
   "metadata": {},
   "outputs": [],
   "source": [
    "df=pd.read_csv('case_status1.csv')\n",
    "plt.bar('Label','Count',data=df)"
   ]
  },
  {
   "cell_type": "code",
   "execution_count": null,
   "id": "b7755984-dab8-4579-924a-aa187a053ff5",
   "metadata": {},
   "outputs": [],
   "source": [
    "for i in cat_columns[1:]:\n",
    "    cnf=visa_df[i].value_counts()\n",
    "    keys=cnf.keys()\n",
    "    values=cnf.values\n",
    "    df=pd.DataFrame(zip(keys,values),columns=['Label','Count'])\n",
    "    plt.title('Bar Chart of Cat_col')\n",
    "    plt.xlabel(f'{i} calss')\n",
    "    plt.ylabel(f'{i} num of position')\n",
    "    plt.bar('Label','Count',data=df)\n",
    "    plt.savefig(f'{i}_bar chart.jpg')"
   ]
  },
  {
   "cell_type": "code",
   "execution_count": null,
   "id": "1e03b2e3-d9b8-47e0-bcd5-38e460d6ff99",
   "metadata": {},
   "outputs": [],
   "source": [
    "for i in cat_columns[1:]:\n",
    "    cnf=visa_df[i].value_counts()\n",
    "    keys=cnf.keys()\n",
    "    values=cnf.values\n",
    "    df=pd.DataFrame(zip(keys,values),columns=['Label','Count'])\n",
    "    plt.title('Bar Chart of Cat_col')\n",
    "    plt.xlabel(f'{i} calss')\n",
    "    plt.ylabel(f'{i} num of position')\n",
    "    plt.bar('Label','Count',data=df)\n",
    "    path=r'C:\\Users\\manish\\Documents\\naresh it\\statistic\\Bar_plot_fig'\n",
    "    plt.savefig(f'{path}\\\\{i}_bar chart.jpg')\n"
   ]
  },
  {
   "cell_type": "code",
   "execution_count": null,
   "id": "5aefc024-e802-4fc5-b6e5-4f9e2cad0e54",
   "metadata": {},
   "outputs": [],
   "source": [
    "pip install imageio"
   ]
  },
  {
   "cell_type": "code",
   "execution_count": null,
   "id": "10414ecb-5fd8-4ee2-a952-03dfefc586a6",
   "metadata": {},
   "outputs": [],
   "source": [
    "pip install Image"
   ]
  },
  {
   "cell_type": "code",
   "execution_count": null,
   "id": "319f7eb2-639a-4c7e-b294-b78994529342",
   "metadata": {},
   "outputs": [],
   "source": [
    "from PIL import Image as img\n",
    "path=r'C:\\Users\\manish\\Documents\\naresh it\\statistic\\continent_bar chart.jpg'\n",
    "\n",
    "img.open(path)\n"
   ]
  },
  {
   "cell_type": "markdown",
   "id": "17c75786-6949-4dbd-8975-ea85364bda5b",
   "metadata": {},
   "source": [
    "**Bar chart using Seaborn**"
   ]
  },
  {
   "cell_type": "markdown",
   "id": "b0cfe8ae-5414-490e-8667-45c29652a2b7",
   "metadata": {},
   "source": [
    "- we can plot bar chart using many packageg \n",
    "- Matplotlib is one package another is seaborn\n",
    "- in matplot is **plt.Bar**\n",
    "- in seaborn the method is **countplot**\n",
    "- in mamtplot we will take the row data and we will create our frequency table thats called datframe\n",
    "- we will pass the datframe,columns1,columns2 and datframe\n",
    "- but in seaborn plot\n",
    "  - it take direct raw data\n",
    "  - we wil provide direct columns name\n",
    "  - we will provide main dataframe name\n"
   ]
  },
  {
   "cell_type": "code",
   "execution_count": null,
   "id": "afb931fd-c47a-48e1-a095-135eeac7f438",
   "metadata": {},
   "outputs": [],
   "source": [
    "#Continent  columns === continent_df\n",
    "# continent column directly=== visa_df"
   ]
  },
  {
   "cell_type": "code",
   "execution_count": null,
   "id": "462fd6a0-bd0d-4225-b851-182d546ab3e7",
   "metadata": {},
   "outputs": [],
   "source": [
    "cnt=visa_df['continent'].value_counts()\n",
    "l=cnt.keys()\n",
    "m=cnt.values\n",
    "l,m"
   ]
  },
  {
   "cell_type": "code",
   "execution_count": null,
   "id": "f3069e9b-1ebb-4a76-901c-9f67e15c1437",
   "metadata": {},
   "outputs": [],
   "source": [
    "order_continent=['Asia','Europe','North America','South America','Africa','Oceania']\n",
    "plt.figure(figsize=(8,5))\n",
    "scn.countplot(data=visa_df,\n",
    "              x='continent',\n",
    "              order=order_continent);"
   ]
  },
  {
   "cell_type": "code",
   "execution_count": null,
   "id": "36c24c8e-e29d-4088-9b9e-8df85552be73",
   "metadata": {},
   "outputs": [],
   "source": [
    "order_continent=visa_df['continent'].value_counts().keys()\n",
    "plt.figure(figsize=(8,5))\n",
    "#colr=['red','green','pink','sky','black','red']\n",
    "scn.countplot(data=visa_df,\n",
    "              x='continent',\n",
    "              order=order_continent);\n",
    "plt.title('Bar_chart with seaborn')\n",
    "plt.savefig('Bar_chart_seaborn.jpg')"
   ]
  },
  {
   "cell_type": "code",
   "execution_count": null,
   "id": "4d5b6715-50d3-4ad8-b179-37ff4e8303c2",
   "metadata": {},
   "outputs": [],
   "source": [
    "cmd=visa_df['continent'].value_counts()"
   ]
  },
  {
   "cell_type": "code",
   "execution_count": null,
   "id": "bafd998b-f4d6-4324-b28c-fc123d28ba62",
   "metadata": {},
   "outputs": [],
   "source": [
    "cmd.values"
   ]
  },
  {
   "cell_type": "code",
   "execution_count": null,
   "id": "33cfc622-de8c-4235-8258-57df657a8090",
   "metadata": {},
   "outputs": [],
   "source": [
    "cmd.keys()"
   ]
  },
  {
   "cell_type": "markdown",
   "id": "9895a1b5-01fe-4383-90b4-cbb2e1dfa916",
   "metadata": {},
   "source": [
    "$Task-3$\n",
    "\n",
    "**Using for loop plots the bar chart of all the cat columns**\n",
    "- we can use seaborn and matplotlib\n",
    "- Seaborn: countplot require only raw data, direct columns name and main dta\n",
    "- Matplotlib : require frequency table\n",
    "- Then we are creating a dataframe\n",
    "- Start with seaborn\n",
    "- then we require cat column anmes\n",
    "- and main dataframe\n",
    "- "
   ]
  },
  {
   "cell_type": "code",
   "execution_count": null,
   "id": "a37e71ef-847a-4274-b6ba-70b2cfe0f56c",
   "metadata": {},
   "outputs": [],
   "source": [
    "for i in cat_columns[1:]:\n",
    "    plt.figure(figsize=(8,5))\n",
    "    order_continent=visa_df[i].value_counts().keys()\n",
    "    #colr=['red','green','pink','sky','black','red']\n",
    "    scn.countplot(data=visa_df,\n",
    "                  x=i,\n",
    "                  order=order_continent);\n",
    "    plt.title('Bar_chart with seaborn')\n",
    "    plt.savefig(f'{i}.jpg')"
   ]
  },
  {
   "cell_type": "markdown",
   "id": "59027e79-9b12-4f2d-b6db-41f968efb4ad",
   "metadata": {},
   "source": [
    "**HOW to create a folder**"
   ]
  },
  {
   "cell_type": "code",
   "execution_count": null,
   "id": "95b362b7-62ed-4536-9735-897e8387dda0",
   "metadata": {},
   "outputs": [],
   "source": [
    "import os"
   ]
  },
  {
   "cell_type": "code",
   "execution_count": null,
   "id": "a1bbea91-48a8-41c4-84d0-9e54af2231d0",
   "metadata": {},
   "outputs": [],
   "source": [
    "os.getcwd()"
   ]
  },
  {
   "cell_type": "code",
   "execution_count": null,
   "id": "7036615d-e8cf-48f2-aa06-34c43426d7e6",
   "metadata": {},
   "outputs": [],
   "source": [
    "os.mkdir()"
   ]
  },
  {
   "cell_type": "markdown",
   "id": "294aac88-acaa-4226-85f4-83b603d669a3",
   "metadata": {},
   "source": [
    "**os.makedirs()**\n",
    "- Make dir create a leaf dir\n",
    "- means it will take the current working directory and creates one extra folder\n",
    "- Here my python file is **Statistic** folder\n",
    "- Now I want to create a new folder **Graph_seaborn**\n",
    "- which is one step ahead of statistic/Graph_seaborn\n",
    "- Pass the full path inside the makedirs()\n",
    "- C:\\\\Users\\\\manish\\\\Documents\\\\naresh it\\\\statistic\n"
   ]
  },
  {
   "cell_type": "code",
   "execution_count": null,
   "id": "fc96f61c-d3fd-48f2-8cc0-37089a153658",
   "metadata": {},
   "outputs": [],
   "source": [
    "os.makedirs('C:\\\\Users\\\\manish\\\\Documents\\\\naresh it\\\\statistic\\\\graph_seaborn')"
   ]
  },
  {
   "cell_type": "code",
   "execution_count": null,
   "id": "a0696f1c-af2c-4c12-8378-8b72b98a6e39",
   "metadata": {},
   "outputs": [],
   "source": [
    "#Step_1\n",
    "#root_dir===os.getcwd()\n",
    "\n",
    "#step_2\n",
    "#new_folder=='graph_seaborn'\n",
    "\n",
    "#step_3\n",
    "\n",
    "# new_dir==os.path.join(root_directory,new_folder)\n",
    "# new_dir\n",
    "\n",
    "#step_4\n",
    "#os.makedirs(os.getw)\n"
   ]
  },
  {
   "cell_type": "code",
   "execution_count": null,
   "id": "821ecf84-80c6-4b64-8ad9-4f6334a27d2a",
   "metadata": {},
   "outputs": [],
   "source": [
    "root_dir=os.getcwd()\n",
    "new_folder='grapgh_1_seaborn'\n",
    "new_dir=os.path.join(root_dir,new_folder)\n",
    "os.makedirs(new_dir)"
   ]
  },
  {
   "cell_type": "code",
   "execution_count": null,
   "id": "11565749-fd8f-4bd6-8b3b-97867724933a",
   "metadata": {},
   "outputs": [],
   "source": [
    "try:\n",
    "    root_directory=os.getcwd()\n",
    "    new_folder='graph_seaborn'\n",
    "    new_dir=os.path.join(root_directory,new_folder)\n",
    "    os.makedirs(new_dir)\n",
    "except:\n",
    "    ('error')"
   ]
  },
  {
   "cell_type": "code",
   "execution_count": null,
   "id": "db962045-5814-4171-81a3-ca0160fd5bf8",
   "metadata": {},
   "outputs": [],
   "source": [
    "#f'new_dir+'\\\\'{i}.jpg'"
   ]
  },
  {
   "cell_type": "code",
   "execution_count": null,
   "id": "eb25d0a7-5489-4b9e-9b8f-decfd6a78a2a",
   "metadata": {},
   "outputs": [],
   "source": [
    "new_dir"
   ]
  },
  {
   "cell_type": "code",
   "execution_count": null,
   "id": "705a7b6f-9ecd-44a4-ba7f-bb59c8dbb68d",
   "metadata": {},
   "outputs": [],
   "source": [
    "new_dir"
   ]
  },
  {
   "cell_type": "code",
   "execution_count": null,
   "id": "29aac963-7881-447c-b01f-57f6e6089110",
   "metadata": {},
   "outputs": [],
   "source": [
    "for i in cat_columns[1:]:\n",
    "    plt.figure(figsize=(8,5))\n",
    "    order_continent=visa_df[i].value_counts().keys()\n",
    "    #colr=['red','green','pink','sky','black','red']\n",
    "    scn.countplot(data=visa_df,\n",
    "                  x=i,\n",
    "                  order=order_continent)\n",
    "    plt.title('Bar_chart with seaborn')\n",
    "    plt.xlabel('class')\n",
    "    plt.ylabel('c.frequency')\n",
    "    plt.savefig(f'{new}\\\\{i}_seaborn.jpg')"
   ]
  },
  {
   "cell_type": "code",
   "execution_count": null,
   "id": "1e342620-ddbd-47ef-8571-76010a360cb3",
   "metadata": {},
   "outputs": [],
   "source": [
    "new"
   ]
  },
  {
   "cell_type": "code",
   "execution_count": null,
   "id": "9a5ac591-004a-415d-8392-904b27e3256f",
   "metadata": {},
   "outputs": [],
   "source": [
    "try:\n",
    "    root_dir=os.getcwd()\n",
    "    new_folder='grapgh_matplot'\n",
    "    new_dir=os.path.join(root_dir,new_folder)\n",
    "    os.makedirs(new_dir)\n",
    "except:\n",
    "    ('error')\n"
   ]
  },
  {
   "cell_type": "code",
   "execution_count": null,
   "id": "a7504e3a-4c2c-46b8-a113-ec00cd0cf74f",
   "metadata": {},
   "outputs": [],
   "source": [
    "new_dir"
   ]
  },
  {
   "cell_type": "markdown",
   "id": "04101bc7-4bbe-4289-8927-4d6a9f72a290",
   "metadata": {},
   "source": [
    "**Mat_plotlib**\n",
    "\n",
    "**Using Matplotlib**"
   ]
  },
  {
   "cell_type": "code",
   "execution_count": null,
   "id": "70b48f19-87b8-4d4a-858d-141ffac25195",
   "metadata": {},
   "outputs": [],
   "source": [
    "#dff=os.listdir(r'C:\\Users\\manish\\Documents\\naresh it\\statistic\\EDA_Visa_df_file')\n",
    "df=pd.read_csv(r'‪C:\\Users\\manish\\Documents\\naresh it\\statistic\\Bank_seaborn\\job_csv')\n",
    "df"
   ]
  },
  {
   "cell_type": "code",
   "execution_count": null,
   "id": "9f4af443-1b02-426d-9068-c29f25f255c9",
   "metadata": {},
   "outputs": [],
   "source": [
    "rot_dir"
   ]
  },
  {
   "cell_type": "code",
   "execution_count": null,
   "id": "a5ec96c7-e558-4ca2-9df7-87eddd01b413",
   "metadata": {},
   "outputs": [],
   "source": [
    "for i in dff:\n",
    "    df=pd.read_csv(i)\n",
    "    plt.bar('Label','Count',data=dff)\n",
    "    plt.title('Bar_chart with matplotlip')\n",
    "    plt.xlabel('Label')\n",
    "    plt.ylabel('Count')\n",
    "    plt.savefig(f'{new_dir}\\\\{i}____matpot1.jpg')"
   ]
  },
  {
   "cell_type": "code",
   "execution_count": null,
   "id": "2ce1213c-460c-408d-8814-e1e713b261ba",
   "metadata": {},
   "outputs": [],
   "source": [
    "import os"
   ]
  },
  {
   "cell_type": "code",
   "execution_count": null,
   "id": "2789291b-25a7-4602-a0c0-e30ba58e5d40",
   "metadata": {},
   "outputs": [],
   "source": [
    "os.getcwd()"
   ]
  },
  {
   "cell_type": "markdown",
   "id": "adce8785-a1e3-4bce-8d66-89aee4668298",
   "metadata": {},
   "source": [
    "**subplots**"
   ]
  },
  {
   "cell_type": "code",
   "execution_count": null,
   "id": "39753047-88ff-4efd-bcac-dd82d22b5f8e",
   "metadata": {},
   "outputs": [],
   "source": [
    "dir=os.listdir(C:/Users/manish/Documents/naresh it/statistic/EDA_Visa_df_file)"
   ]
  },
  {
   "cell_type": "code",
   "execution_count": null,
   "id": "12a2dc50-642c-4b6c-be16-ddaf77f3c191",
   "metadata": {},
   "outputs": [],
   "source": [
    "i='continent.csv'\n",
    "path=dir+'\\\\'+i\n",
    "df=pd.read_csv(path)"
   ]
  },
  {
   "cell_type": "markdown",
   "id": "5dadfb5a-df23-4fbd-a530-8bd93a3d46b8",
   "metadata": {},
   "source": [
    "**subplot**"
   ]
  },
  {
   "cell_type": "markdown",
   "id": "7e5fcdb7-c61b-4dfd-8b59-994045b86476",
   "metadata": {},
   "source": [
    "- if we have multiple plots when we apply for loop it is giving one by one\n",
    "- it is hard to see all the graph\n",
    "- Subplots is a kind of matrixx representation\n",
    "- Suppose we have a 2*2 matrix means 4 values, means 4 plot we can plot\n",
    "- first plot position represent width (2,2,1)\n",
    "- 2nd plot position represent width (2,2,2)\n",
    "- 3rd plot position represent width (2,2,3)\n",
    "- fourth plot position represent width (2,2,4)"
   ]
  },
  {
   "cell_type": "code",
   "execution_count": null,
   "id": "f2dd3d79-2bfa-4e13-8d93-12ae90c9521f",
   "metadata": {},
   "outputs": [],
   "source": [
    "plt.subplot(2,2,1)\n",
    "plt.subplot(2,2,2)\n",
    "plt.subplot(2,2,3)\n",
    "plt.subplot(2,2,4)"
   ]
  },
  {
   "cell_type": "code",
   "execution_count": null,
   "id": "5d08676a-1c3d-44ac-a327-1e0da6309a9e",
   "metadata": {},
   "outputs": [],
   "source": [
    "plt.subplot(3,3,1)\n",
    "plt.subplot(3,3,2)\n",
    "plt.subplot(3,3,3)\n",
    "plt.subplot(3,3,4)\n",
    "plt.subplot(3,3,5)\n",
    "plt.subplot(3,3,6)"
   ]
  },
  {
   "cell_type": "code",
   "execution_count": null,
   "id": "f4c09653-84ba-4c2f-8096-5685b567decb",
   "metadata": {},
   "outputs": [],
   "source": [
    "plt.subplot(3,3,1)\n",
    "plt.subplot(3,3,2)"
   ]
  },
  {
   "cell_type": "code",
   "execution_count": null,
   "id": "c62d7056-2820-4df9-a225-83eb98e8647f",
   "metadata": {},
   "outputs": [],
   "source": [
    "for i in range(1,5):\n",
    "    plt.subplot(2,2,i)"
   ]
  },
  {
   "cell_type": "code",
   "execution_count": null,
   "id": "35f92a34-e0c3-4e71-8df1-16fbbea70678",
   "metadata": {},
   "outputs": [],
   "source": [
    "plt.subplot(1,2,1)"
   ]
  },
  {
   "cell_type": "code",
   "execution_count": null,
   "id": "2dfb32a7-dd48-446b-9210-bd874661e432",
   "metadata": {},
   "outputs": [],
   "source": [
    "for i in range(1,8):\n",
    "    plt.subplot(3,3,i)"
   ]
  },
  {
   "cell_type": "code",
   "execution_count": null,
   "id": "f664f281-8c54-447d-9b61-fe231768df91",
   "metadata": {},
   "outputs": [],
   "source": [
    "plt.subplot(1,2,1)\n",
    "plt.subplot(1,2,2)"
   ]
  },
  {
   "cell_type": "code",
   "execution_count": null,
   "id": "bb6d3f4c-c55f-4027-828a-3f5d4e12e799",
   "metadata": {},
   "outputs": [],
   "source": [
    "plt.subplot(2,1,2)"
   ]
  },
  {
   "cell_type": "code",
   "execution_count": null,
   "id": "7819abd9-77cb-4432-beea-bca997563893",
   "metadata": {},
   "outputs": [],
   "source": [
    "plt.subplot(2,1,1)\n",
    "plt.subplot(2,1,2)"
   ]
  },
  {
   "cell_type": "code",
   "execution_count": null,
   "id": "89695c28-3ddf-4b05-b64a-07d11c1c8e94",
   "metadata": {},
   "outputs": [],
   "source": [
    "#read the data again \n",
    "#take two columns\n",
    "#1)continents 2)case status"
   ]
  },
  {
   "cell_type": "code",
   "execution_count": null,
   "id": "d79c34a1-98c4-433b-b037-9e1c3d93b217",
   "metadata": {},
   "outputs": [],
   "source": [
    "path=r'C:\\Users\\manish\\Datafile\\Visadataset.csv'\n",
    "visa_df=pd.read_csv(path)\n",
    "visa_df.head()\n"
   ]
  },
  {
   "cell_type": "code",
   "execution_count": null,
   "id": "c76c1c48-5844-4763-bd0f-1631556a6c89",
   "metadata": {},
   "outputs": [],
   "source": [
    "visa_df.columns"
   ]
  },
  {
   "cell_type": "code",
   "execution_count": null,
   "id": "58a9619e-6fb0-4781-bba6-f0019fa25ff6",
   "metadata": {},
   "outputs": [],
   "source": [
    "scn.countplot(data=visa_df,x='continent')"
   ]
  },
  {
   "cell_type": "code",
   "execution_count": null,
   "id": "2d583a56-3196-4c83-94ea-0a94ca6434e2",
   "metadata": {},
   "outputs": [],
   "source": [
    "plt.figure(figsize=(10,4))\n",
    "plt.subplot(1,2,1)\n",
    "scn.countplot(data=visa_df,x='continent')\n",
    "plt.subplot(1,2,2)\n",
    "scn.countplot(data=visa_df,x='case_status')"
   ]
  },
  {
   "cell_type": "markdown",
   "id": "1844c337-b216-42b3-bad5-8a444bc518d9",
   "metadata": {},
   "source": [
    "**task_4**\n",
    "- 'continent', 'education_of_employee', 'has_job_experience','case_status'"
   ]
  },
  {
   "cell_type": "code",
   "execution_count": null,
   "id": "fb114410-1185-4af4-b971-e5346a8bc480",
   "metadata": {},
   "outputs": [],
   "source": [
    "plt.figure(figsize=(18,6))\n",
    "plt.subplot(2,2,1)\n",
    "scn.countplot(x='continent',data=visa_df)\n",
    "plt.title('Continent_bar_chart')\n",
    "###########################################\n",
    "plt.subplot(2,2,2)\n",
    "scn.countplot(x='education_of_employee',data=visa_df)\n",
    "plt.title('EDUCATION_bar_chart')\n",
    "#############################################\n",
    "plt.subplot(2,2,3)\n",
    "scn.countplot(x='has_job_experience',data=visa_df)\n",
    "plt.title('Exprience_bar_chart')\n",
    "##########################################\n",
    "plt.subplot(2,2,4)\n",
    "scn.countplot(x='case_status',data=visa_df) \n",
    "plt.title('case_bar_chart')\n",
    "plt.show()"
   ]
  },
  {
   "cell_type": "code",
   "execution_count": null,
   "id": "784c5cc8-9b5f-4d65-8480-4548473288ee",
   "metadata": {},
   "outputs": [],
   "source": [
    "**Task_3**\n",
    "- Take cat columns, slice from index 1, avoid the case_id\n",
    "- so we have 8 columns, so the grid is 3x3\n",
    "- for loop should iterate from  []"
   ]
  },
  {
   "cell_type": "code",
   "execution_count": null,
   "id": "a0c7daa1-475d-4da7-9d49-9d70766d4671",
   "metadata": {},
   "outputs": [],
   "source": [
    "col=cat_columns[1:]\n",
    "for i in range(len(col)):\n",
    "    print(i)"
   ]
  },
  {
   "cell_type": "code",
   "execution_count": null,
   "id": "37845290-a75f-44ce-82ca-566d7eb95db1",
   "metadata": {},
   "outputs": [],
   "source": [
    "col=cat_columns[1:]\n",
    "plt.figure(figsize=(16,14))\n",
    "for i in range(len(col)):\n",
    "    plt.subplot(3,3,i+1)\n",
    "    scn.countplot(x=col[i],data=visa_df)"
   ]
  },
  {
   "cell_type": "code",
   "execution_count": 87,
   "id": "a37338f7-6f1b-4997-950e-44390679658d",
   "metadata": {},
   "outputs": [
    {
     "data": {
      "image/png": "[encoded data removed]",
      "text/plain": [
       "<Figure size 1800x600 with 4 Axes>"
      ]
     },
     "metadata": {},
     "output_type": "display_data"
    }
   ],
   "source": [
    "plt.figure(figsize=(18,6))\n",
    "plt.subplot(2,2,1)\n",
    "scn.countplot(x='continent',data=visa_df)\n",
    "plt.title('Continent_bar_chart')\n",
    "###########################################\n",
    "plt.subplot(2,2,2)\n",
    "scn.countplot(x='education_of_employee',data=visa_df)\n",
    "plt.title('EDUCATION_bar_chart')\n",
    "#############################################\n",
    "plt.subplot(2,2,3)\n",
    "scn.countplot(x='has_job_experience',data=visa_df)\n",
    "plt.title('Exprience_bar_chart')\n",
    "##########################################\n",
    "plt.subplot(2,2,4)\n",
    "scn.countplot(x='case_status',data=visa_df) \n",
    "plt.title('case_bar_chart')\n",
    "plt.show()"
   ]
  },
  {
   "cell_type": "code",
   "execution_count": 91,
   "id": "a58157f1-b492-4a34-948f-627aca81a3c9",
   "metadata": {},
   "outputs": [],
   "source": [
    "#visa_df"
   ]
  },
  {
   "cell_type": "markdown",
   "id": "8c9ba9e0-47f6-4bf8-a1c7-17bd28c16a2e",
   "metadata": {},
   "source": [
    "**Method-3**"
   ]
  },
  {
   "cell_type": "code",
   "execution_count": 97,
   "id": "a790ddfe-7366-4f57-8b95-4f10bf55767e",
   "metadata": {},
   "outputs": [
    {
     "data": {
      "text/html": [
       "<div>\n",
       "<style scoped>\n",
       "    .dataframe tbody tr th:only-of-type {\n",
       "        vertical-align: middle;\n",
       "    }\n",
       "\n",
       "    .dataframe tbody tr th {\n",
       "        vertical-align: top;\n",
       "    }\n",
       "\n",
       "    .dataframe thead th {\n",
       "        text-align: right;\n",
       "    }\n",
       "</style>\n",
       "<table border=\"1\" class=\"dataframe\">\n",
       "  <thead>\n",
       "    <tr style=\"text-align: right;\">\n",
       "      <th></th>\n",
       "      <th>case_id</th>\n",
       "      <th>continent</th>\n",
       "      <th>education_of_employee</th>\n",
       "      <th>has_job_experience</th>\n",
       "      <th>requires_job_training</th>\n",
       "      <th>no_of_employees</th>\n",
       "      <th>yr_of_estab</th>\n",
       "      <th>region_of_employment</th>\n",
       "      <th>prevailing_wage</th>\n",
       "      <th>unit_of_wage</th>\n",
       "      <th>full_time_position</th>\n",
       "      <th>case_status</th>\n",
       "    </tr>\n",
       "  </thead>\n",
       "  <tbody>\n",
       "    <tr>\n",
       "      <th>0</th>\n",
       "      <td>EZYV01</td>\n",
       "      <td>Asia</td>\n",
       "      <td>High School</td>\n",
       "      <td>N</td>\n",
       "      <td>N</td>\n",
       "      <td>14513</td>\n",
       "      <td>2007</td>\n",
       "      <td>West</td>\n",
       "      <td>592.2029</td>\n",
       "      <td>Hour</td>\n",
       "      <td>Y</td>\n",
       "      <td>Denied</td>\n",
       "    </tr>\n",
       "    <tr>\n",
       "      <th>1</th>\n",
       "      <td>EZYV02</td>\n",
       "      <td>Asia</td>\n",
       "      <td>Master's</td>\n",
       "      <td>Y</td>\n",
       "      <td>N</td>\n",
       "      <td>2412</td>\n",
       "      <td>2002</td>\n",
       "      <td>Northeast</td>\n",
       "      <td>83425.6500</td>\n",
       "      <td>Year</td>\n",
       "      <td>Y</td>\n",
       "      <td>Certified</td>\n",
       "    </tr>\n",
       "    <tr>\n",
       "      <th>2</th>\n",
       "      <td>EZYV03</td>\n",
       "      <td>Asia</td>\n",
       "      <td>Bachelor's</td>\n",
       "      <td>N</td>\n",
       "      <td>Y</td>\n",
       "      <td>44444</td>\n",
       "      <td>2008</td>\n",
       "      <td>West</td>\n",
       "      <td>122996.8600</td>\n",
       "      <td>Year</td>\n",
       "      <td>Y</td>\n",
       "      <td>Denied</td>\n",
       "    </tr>\n",
       "    <tr>\n",
       "      <th>3</th>\n",
       "      <td>EZYV04</td>\n",
       "      <td>Asia</td>\n",
       "      <td>Bachelor's</td>\n",
       "      <td>N</td>\n",
       "      <td>N</td>\n",
       "      <td>98</td>\n",
       "      <td>1897</td>\n",
       "      <td>West</td>\n",
       "      <td>83434.0300</td>\n",
       "      <td>Year</td>\n",
       "      <td>Y</td>\n",
       "      <td>Denied</td>\n",
       "    </tr>\n",
       "    <tr>\n",
       "      <th>4</th>\n",
       "      <td>EZYV05</td>\n",
       "      <td>Africa</td>\n",
       "      <td>Master's</td>\n",
       "      <td>Y</td>\n",
       "      <td>N</td>\n",
       "      <td>1082</td>\n",
       "      <td>2005</td>\n",
       "      <td>South</td>\n",
       "      <td>149907.3900</td>\n",
       "      <td>Year</td>\n",
       "      <td>Y</td>\n",
       "      <td>Certified</td>\n",
       "    </tr>\n",
       "    <tr>\n",
       "      <th>...</th>\n",
       "      <td>...</td>\n",
       "      <td>...</td>\n",
       "      <td>...</td>\n",
       "      <td>...</td>\n",
       "      <td>...</td>\n",
       "      <td>...</td>\n",
       "      <td>...</td>\n",
       "      <td>...</td>\n",
       "      <td>...</td>\n",
       "      <td>...</td>\n",
       "      <td>...</td>\n",
       "      <td>...</td>\n",
       "    </tr>\n",
       "    <tr>\n",
       "      <th>25475</th>\n",
       "      <td>EZYV25476</td>\n",
       "      <td>Asia</td>\n",
       "      <td>Bachelor's</td>\n",
       "      <td>Y</td>\n",
       "      <td>Y</td>\n",
       "      <td>2601</td>\n",
       "      <td>2008</td>\n",
       "      <td>South</td>\n",
       "      <td>77092.5700</td>\n",
       "      <td>Year</td>\n",
       "      <td>Y</td>\n",
       "      <td>Certified</td>\n",
       "    </tr>\n",
       "    <tr>\n",
       "      <th>25476</th>\n",
       "      <td>EZYV25477</td>\n",
       "      <td>Asia</td>\n",
       "      <td>High School</td>\n",
       "      <td>Y</td>\n",
       "      <td>N</td>\n",
       "      <td>3274</td>\n",
       "      <td>2006</td>\n",
       "      <td>Northeast</td>\n",
       "      <td>279174.7900</td>\n",
       "      <td>Year</td>\n",
       "      <td>Y</td>\n",
       "      <td>Certified</td>\n",
       "    </tr>\n",
       "    <tr>\n",
       "      <th>25477</th>\n",
       "      <td>EZYV25478</td>\n",
       "      <td>Asia</td>\n",
       "      <td>Master's</td>\n",
       "      <td>Y</td>\n",
       "      <td>N</td>\n",
       "      <td>1121</td>\n",
       "      <td>1910</td>\n",
       "      <td>South</td>\n",
       "      <td>146298.8500</td>\n",
       "      <td>Year</td>\n",
       "      <td>N</td>\n",
       "      <td>Certified</td>\n",
       "    </tr>\n",
       "    <tr>\n",
       "      <th>25478</th>\n",
       "      <td>EZYV25479</td>\n",
       "      <td>Asia</td>\n",
       "      <td>Master's</td>\n",
       "      <td>Y</td>\n",
       "      <td>Y</td>\n",
       "      <td>1918</td>\n",
       "      <td>1887</td>\n",
       "      <td>West</td>\n",
       "      <td>86154.7700</td>\n",
       "      <td>Year</td>\n",
       "      <td>Y</td>\n",
       "      <td>Certified</td>\n",
       "    </tr>\n",
       "    <tr>\n",
       "      <th>25479</th>\n",
       "      <td>EZYV25480</td>\n",
       "      <td>Asia</td>\n",
       "      <td>Bachelor's</td>\n",
       "      <td>Y</td>\n",
       "      <td>N</td>\n",
       "      <td>3195</td>\n",
       "      <td>1960</td>\n",
       "      <td>Midwest</td>\n",
       "      <td>70876.9100</td>\n",
       "      <td>Year</td>\n",
       "      <td>Y</td>\n",
       "      <td>Certified</td>\n",
       "    </tr>\n",
       "  </tbody>\n",
       "</table>\n",
       "<p>25480 rows × 12 columns</p>\n",
       "</div>"
      ],
      "text/plain": [
       "         case_id continent education_of_employee has_job_experience  \\\n",
       "0         EZYV01      Asia           High School                  N   \n",
       "1         EZYV02      Asia              Master's                  Y   \n",
       "2         EZYV03      Asia            Bachelor's                  N   \n",
       "3         EZYV04      Asia            Bachelor's                  N   \n",
       "4         EZYV05    Africa              Master's                  Y   \n",
       "...          ...       ...                   ...                ...   \n",
       "25475  EZYV25476      Asia            Bachelor's                  Y   \n",
       "25476  EZYV25477      Asia           High School                  Y   \n",
       "25477  EZYV25478      Asia              Master's                  Y   \n",
       "25478  EZYV25479      Asia              Master's                  Y   \n",
       "25479  EZYV25480      Asia            Bachelor's                  Y   \n",
       "\n",
       "      requires_job_training  no_of_employees  yr_of_estab  \\\n",
       "0                         N            14513         2007   \n",
       "1                         N             2412         2002   \n",
       "2                         Y            44444         2008   \n",
       "3                         N               98         1897   \n",
       "4                         N             1082         2005   \n",
       "...                     ...              ...          ...   \n",
       "25475                     Y             2601         2008   \n",
       "25476                     N             3274         2006   \n",
       "25477                     N             1121         1910   \n",
       "25478                     Y             1918         1887   \n",
       "25479                     N             3195         1960   \n",
       "\n",
       "      region_of_employment  prevailing_wage unit_of_wage full_time_position  \\\n",
       "0                     West         592.2029         Hour                  Y   \n",
       "1                Northeast       83425.6500         Year                  Y   \n",
       "2                     West      122996.8600         Year                  Y   \n",
       "3                     West       83434.0300         Year                  Y   \n",
       "4                    South      149907.3900         Year                  Y   \n",
       "...                    ...              ...          ...                ...   \n",
       "25475                South       77092.5700         Year                  Y   \n",
       "25476            Northeast      279174.7900         Year                  Y   \n",
       "25477                South      146298.8500         Year                  N   \n",
       "25478                 West       86154.7700         Year                  Y   \n",
       "25479              Midwest       70876.9100         Year                  Y   \n",
       "\n",
       "      case_status  \n",
       "0          Denied  \n",
       "1       Certified  \n",
       "2          Denied  \n",
       "3          Denied  \n",
       "4       Certified  \n",
       "...           ...  \n",
       "25475   Certified  \n",
       "25476   Certified  \n",
       "25477   Certified  \n",
       "25478   Certified  \n",
       "25479   Certified  \n",
       "\n",
       "[25480 rows x 12 columns]"
      ]
     },
     "execution_count": 97,
     "metadata": {},
     "output_type": "execute_result"
    }
   ],
   "source": [
    "visa_df"
   ]
  },
  {
   "cell_type": "code",
   "execution_count": 99,
   "id": "df87cb3f-d20a-4d46-a2c3-02c86e2d444c",
   "metadata": {},
   "outputs": [
    {
     "data": {
      "text/plain": [
       "(Index(['case_id', 'continent', 'education_of_employee', 'has_job_experience',\n",
       "        'requires_job_training', 'region_of_employment', 'unit_of_wage',\n",
       "        'full_time_position', 'case_status'],\n",
       "       dtype='object'),\n",
       " Index(['no_of_employees', 'yr_of_estab', 'prevailing_wage'], dtype='object'))"
      ]
     },
     "execution_count": 99,
     "metadata": {},
     "output_type": "execute_result"
    }
   ],
   "source": [
    "cat_columns=visa_df.select_dtypes(include='object').columns\n",
    "num_columns=visa_df.select_dtypes(exclude='object').columns\n",
    "cat_columns,num_columns"
   ]
  },
  {
   "cell_type": "code",
   "execution_count": 105,
   "id": "15e08f25-e7f0-4c13-b15b-064fe0f8824e",
   "metadata": {},
   "outputs": [],
   "source": [
    "# apply the  value counts forcategorical\n",
    "# continent columns\n",
    "#save that value counts in a variabe variable.plot(kind='bar')"
   ]
  },
  {
   "cell_type": "code",
   "execution_count": 103,
   "id": "f2cba195-e7b3-4c7a-bd39-00202b6c9c88",
   "metadata": {},
   "outputs": [
    {
     "data": {
      "text/plain": [
       "case_id                  1\n",
       "continent                1\n",
       "education_of_employee    1\n",
       "has_job_experience       1\n",
       "requires_job_training    1\n",
       "region_of_employment     1\n",
       "unit_of_wage             1\n",
       "full_time_position       1\n",
       "case_status              1\n",
       "Name: count, dtype: int64"
      ]
     },
     "execution_count": 103,
     "metadata": {},
     "output_type": "execute_result"
    }
   ],
   "source": [
    "cat_columns.value_counts()"
   ]
  },
  {
   "cell_type": "code",
   "execution_count": 107,
   "id": "edf4647e-057c-4088-9c7c-70bda0d97399",
   "metadata": {},
   "outputs": [],
   "source": [
    "for i in cat_columns[1:]:\n",
    "    cnf=visa_df[i].value_counts()\n",
    "    xx=cnf.keys()\n",
    "    yy=cnf.values\n",
    "    pd.DataFrame(zip(xx,yy),columns=['Label','Count'])"
   ]
  },
  {
   "cell_type": "code",
   "execution_count": 137,
   "id": "020a691e-c1a6-41e4-8230-982963ad36fc",
   "metadata": {},
   "outputs": [
    {
     "data": {
      "image/png": "[encoded data removed]",
      "text/plain": [
       "<Figure size 640x480 with 1 Axes>"
      ]
     },
     "metadata": {},
     "output_type": "display_data"
    }
   ],
   "source": [
    "variable=cat_columns.value_counts()\n",
    "new_variable1=variable.plot(kind='bar')\n",
    "new_variable1.bar_label(new_variable1.containers[0])\n",
    "plt.show()"
   ]
  },
  {
   "cell_type": "code",
   "execution_count": 133,
   "id": "0dc88376-6828-4d50-91fd-1a81b954b0c4",
   "metadata": {},
   "outputs": [
    {
     "data": {
      "image/png": "[encoded data removed]",
      "text/plain": [
       "<Figure size 640x480 with 1 Axes>"
      ]
     },
     "metadata": {},
     "output_type": "display_data"
    }
   ],
   "source": [
    "cds=visa_df['continent'].value_counts()\n",
    "ax=cds.plot(kind='bar')\n",
    "#dir(ax)\n",
    "ax.bar_label(ax.containers[0])\n",
    "plt.show()"
   ]
  },
  {
   "cell_type": "markdown",
   "id": "62434b29-5b7a-49d3-a8f4-12f17684b054",
   "metadata": {},
   "source": [
    "**Pie_chart**"
   ]
  },
  {
   "cell_type": "markdown",
   "id": "cc2f0121-15bc-4f17-9240-ae5c88b23088",
   "metadata": {},
   "source": [
    "- pie chart is a 360 degree \n",
    "- it is under matplotlib package\n",
    "- it will takes keys and values\n",
    "- that we will get fro value count"
   ]
  },
  {
   "cell_type": "code",
   "execution_count": 145,
   "id": "45a36d05-c9d3-4a52-9acc-9ddfefdcf2f0",
   "metadata": {},
   "outputs": [],
   "source": [
    "#step_1: get keys from continent values count\n",
    "# step_2 : get values from continent values counts\n",
    "# step_3: plt.pie verify the arguments\n",
    "#    which argument takes values and key\n"
   ]
  },
  {
   "cell_type": "code",
   "execution_count": 175,
   "id": "d290dffe-7673-4070-b832-171836e36b9a",
   "metadata": {},
   "outputs": [
    {
     "data": {
      "text/plain": [
       "continent\n",
       "Asia             0.661735\n",
       "Europe           0.146468\n",
       "North America    0.129199\n",
       "South America    0.033438\n",
       "Africa           0.021625\n",
       "Oceania          0.007535\n",
       "Name: proportion, dtype: float64"
      ]
     },
     "execution_count": 175,
     "metadata": {},
     "output_type": "execute_result"
    }
   ],
   "source": [
    "visa_df['continent'].value_counts(normalize=True)"
   ]
  },
  {
   "cell_type": "code",
   "execution_count": 159,
   "id": "e6d1b08f-f4aa-4973-a26c-d81f488030f8",
   "metadata": {},
   "outputs": [],
   "source": [
    "cdm=visa_df['continent'].value_counts()\n",
    "keys=cdm.keys()\n",
    "values1=cdm.values\n",
    "#plt.pie(values,label=keys)"
   ]
  },
  {
   "cell_type": "code",
   "execution_count": 181,
   "id": "a689999f-166b-4614-a24e-6f278b5664ec",
   "metadata": {},
   "outputs": [
    {
     "data": {
      "image/png": "[encoded data removed]",
      "text/plain": [
       "<Figure size 640x480 with 1 Axes>"
      ]
     },
     "metadata": {},
     "output_type": "display_data"
    }
   ],
   "source": [
    "plt.pie(values1,labels=keys,autopct='%0.2f%%',explode=[0.1,0.1,0.1,0.1,0.1,0.1],\n",
    "       radius=2,\n",
    "       startangle=90);\n",
    "#plt.show()"
   ]
  },
  {
   "cell_type": "code",
   "execution_count": null,
   "id": "c681d8f6-2c9f-447d-80a7-fce1694d11cf",
   "metadata": {},
   "outputs": [],
   "source": []
  }
 ],
 "metadata": {
  "kernelspec": {
   "display_name": "Python 3 (ipykernel)",
   "language": "python",
   "name": "python3"
  },
  "language_info": {
   "codemirror_mode": {
    "name": "ipython",
    "version": 3
   },
   "file_extension": ".py",
   "mimetype": "text/x-python",
   "name": "python",
   "nbconvert_exporter": "python",
   "pygments_lexer": "ipython3",
   "version": "3.12.4"
  }
 },
 "nbformat": 4,
 "nbformat_minor": 5
}
